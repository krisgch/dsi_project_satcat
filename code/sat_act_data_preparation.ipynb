{
 "cells": [
  {
   "cell_type": "markdown",
   "metadata": {},
   "source": [
    "<img src=\"http://imgur.com/1ZcRyrc.png\" style=\"float: left; margin: 20px; height: 55px\">\n",
    "\n",
    "# Project 1: Standardized Test Analysis - Part 1"
   ]
  },
  {
   "cell_type": "markdown",
   "metadata": {},
   "source": [
    "## Problem Statement"
   ]
  },
  {
   "cell_type": "markdown",
   "metadata": {},
   "source": [
    "*Standardized tests have become more and more unreliable as technology progresses. With new college majors and new skillsets being more indemand in the market, standardized tests no longer measures the potential of students. Which is why standardized tests, should be optional for college admission applications.*"
   ]
  },
  {
   "cell_type": "markdown",
   "metadata": {},
   "source": [
    "### Contents:\n",
    "- [Background](#Background)\n",
    "- [Data Import & Cleaning](#Data-Import-and-Cleaning)"
   ]
  },
  {
   "cell_type": "markdown",
   "metadata": {},
   "source": [
    "## Background"
   ]
  },
  {
   "cell_type": "markdown",
   "metadata": {},
   "source": [
    "The SAT and ACT are standardized tests that many colleges and universities in the United States require for their admissions process. This score is used along with other materials such as grade point average (GPA) and essay responses to determine whether or not a potential student will be accepted to the university.\n",
    "\n",
    "The SAT has two sections of the test: Evidence-Based Reading and Writing and Math ([*source*](https://www.princetonreview.com/college/sat-sections)). The ACT has 4 sections: English, Mathematics, Reading, and Science, with an additional optional writing section ([*source*](https://www.act.org/content/act/en/products-and-services/the-act/scores/understanding-your-scores.html)). They have different score ranges, which you can read more about on their websites or additional outside sources (a quick Google search will help you understand the scores for each test):\n",
    "* [SAT](https://collegereadiness.collegeboard.org/sat)\n",
    "* [ACT](https://www.act.org/content/act/en.html)\n",
    "\n",
    "Standardized tests have long been a controversial topic for students, administrators, and legislators. Since the 1940's, an increasing number of colleges have been using scores from sudents' performances on tests like the SAT and the ACT as a measure for college readiness and aptitude ([*source*](https://www.minotdailynews.com/news/local-news/2017/04/a-brief-history-of-the-sat-and-act/)). Supporters of these tests argue that these scores can be used as an objective measure to determine college admittance. Opponents of these tests claim that these tests are not accurate measures of students potential or ability and serve as an inequitable barrier to entry. Lately, more and more schools are opting to drop the SAT/ACT requirement for their Fall 2021 applications ([*read more about this here*](https://www.cnn.com/2020/04/14/us/coronavirus-colleges-sat-act-test-trnd/index.html)).\n",
    "\n",
    "Additional data are dataset of California income by county. ([*source*](https://en.wikipedia.org/wiki/List_of_California_locations_by_income))"
   ]
  },
  {
   "cell_type": "markdown",
   "metadata": {},
   "source": [
    "### Import required libraries"
   ]
  },
  {
   "cell_type": "code",
   "execution_count": 1,
   "metadata": {},
   "outputs": [],
   "source": [
    "# Imports:\n",
    "#data manipulation\n",
    "import numpy as np\n",
    "import pandas as pd\n",
    "\n",
    "#visualization\n",
    "import matplotlib.pyplot as plt\n",
    "import seaborn as sns"
   ]
  },
  {
   "cell_type": "markdown",
   "metadata": {},
   "source": [
    "### Functions that will be used in 'Data Cleaning'"
   ]
  },
  {
   "cell_type": "code",
   "execution_count": 2,
   "metadata": {},
   "outputs": [
    {
     "data": {
      "text/plain": [
       "0.55"
      ]
     },
     "execution_count": 2,
     "metadata": {},
     "output_type": "execute_result"
    }
   ],
   "source": [
    "# Function to convert percentage string to float\n",
    "def convert_pct(string):\n",
    "    return float(string.replace(\"%\",\"\"))/100\n",
    "\n",
    "convert_pct('55%')"
   ]
  },
  {
   "cell_type": "code",
   "execution_count": 3,
   "metadata": {},
   "outputs": [
    {
     "data": {
      "text/plain": [
       "55000.0"
      ]
     },
     "execution_count": 3,
     "metadata": {},
     "output_type": "execute_result"
    }
   ],
   "source": [
    "# Function to convert number string to float\n",
    "def convert_num(string):\n",
    "    return float(string.replace(\",\",\"\"))\n",
    "\n",
    "convert_num('55,000')"
   ]
  },
  {
   "cell_type": "markdown",
   "metadata": {},
   "source": [
    "## Data Import and Cleaning"
   ]
  },
  {
   "cell_type": "markdown",
   "metadata": {},
   "source": [
    "#### Import datasets and investigate the size of each datasets"
   ]
  },
  {
   "cell_type": "code",
   "execution_count": 4,
   "metadata": {},
   "outputs": [],
   "source": [
    "# Read csv into DataFrame\n",
    "\n",
    "# ACT data\n",
    "act_2017 = pd.read_csv('../data/act_2017.csv')\n",
    "act_2018 = pd.read_csv('../data/act_2018.csv')\n",
    "act_2019 = pd.read_csv('../data/act_2019.csv')\n",
    "act_2019_ca = pd.read_csv('../data/act_2019_ca.csv')\n",
    "\n",
    "# SAT data\n",
    "sat_2017 = pd.read_csv('../data/sat_2017.csv')\n",
    "sat_2018 = pd.read_csv('../data/sat_2018.csv')\n",
    "sat_2019 = pd.read_csv('../data/sat_2019.csv')\n",
    "sat_2019_ca = pd.read_csv('../data/sat_2019_ca.csv')\n",
    "\n",
    "# General college data\n",
    "sat_2019_by_c_maj = pd.read_csv('../data/sat_2019_by_intended_college_major.csv')\n",
    "sat_act_by_college = pd.read_csv('../data/sat_act_by_college.csv')"
   ]
  },
  {
   "cell_type": "code",
   "execution_count": 5,
   "metadata": {},
   "outputs": [],
   "source": [
    "# Create a dictionary of dataframes\n",
    "\n",
    "act = {'act_2017':act_2017,'act_2018':act_2018,'act_2019':act_2019,'act_2019_ca':act_2019_ca}\n",
    "sat = {'sat_2017':sat_2017,'sat_2018':act_2018,'sat_2019':sat_2019,'sat_2019_ca':sat_2019_ca}\n",
    "sat_college = {'sat_2019_by_c_maj':sat_2019_by_c_maj,'sat_act_by_college':sat_act_by_college}"
   ]
  },
  {
   "cell_type": "code",
   "execution_count": 6,
   "metadata": {},
   "outputs": [
    {
     "name": "stdout",
     "output_type": "stream",
     "text": [
      "The shape of DataFrame act_2017 is (52, 7)\n",
      "The shape of DataFrame act_2018 is (52, 3)\n",
      "The shape of DataFrame act_2019 is (52, 3)\n",
      "The shape of DataFrame act_2019_ca is (2310, 18)\n"
     ]
    }
   ],
   "source": [
    "# Check the shapes of ACT dataframes\n",
    "for name,df in act.items():\n",
    "    print(f'The shape of DataFrame {name} is {df.shape}')"
   ]
  },
  {
   "cell_type": "code",
   "execution_count": 7,
   "metadata": {},
   "outputs": [
    {
     "name": "stdout",
     "output_type": "stream",
     "text": [
      "The shape of DataFrame sat_2017 is (51, 5)\n",
      "The shape of DataFrame sat_2018 is (52, 3)\n",
      "The shape of DataFrame sat_2019 is (53, 5)\n",
      "The shape of DataFrame sat_2019_ca is (2580, 26)\n"
     ]
    }
   ],
   "source": [
    "# Check the shapes of sat dataframe\n",
    "for name,df in sat.items():\n",
    "    print(f'The shape of DataFrame {name} is {df.shape}')"
   ]
  },
  {
   "cell_type": "code",
   "execution_count": 8,
   "metadata": {},
   "outputs": [
    {
     "name": "stdout",
     "output_type": "stream",
     "text": [
      "The shape of DataFrame sat_2019_by_c_maj is (38, 6)\n",
      "The shape of DataFrame sat_act_by_college is (416, 8)\n"
     ]
    }
   ],
   "source": [
    "# Check the shapes of general college dataframe\n",
    "for name,df in sat_college.items():\n",
    "    print(f'The shape of DataFrame {name} is {df.shape}')"
   ]
  },
  {
   "cell_type": "markdown",
   "metadata": {
    "scrolled": false
   },
   "source": [
    "#### Cleaning : SAT dataframe"
   ]
  },
  {
   "cell_type": "code",
   "execution_count": 9,
   "metadata": {},
   "outputs": [
    {
     "name": "stdout",
     "output_type": "stream",
     "text": [
      "<class 'pandas.core.frame.DataFrame'>\n",
      "RangeIndex: 51 entries, 0 to 50\n",
      "Data columns (total 5 columns):\n",
      " #   Column                              Non-Null Count  Dtype \n",
      "---  ------                              --------------  ----- \n",
      " 0   State                               51 non-null     object\n",
      " 1   Participation                       51 non-null     object\n",
      " 2   Evidence-Based Reading and Writing  51 non-null     int64 \n",
      " 3   Math                                51 non-null     int64 \n",
      " 4   Total                               51 non-null     int64 \n",
      "dtypes: int64(3), object(2)\n",
      "memory usage: 2.1+ KB\n"
     ]
    }
   ],
   "source": [
    "# Check SAT 2017 datatypes\n",
    "sat_2017.info()"
   ]
  },
  {
   "cell_type": "code",
   "execution_count": 10,
   "metadata": {},
   "outputs": [
    {
     "name": "stdout",
     "output_type": "stream",
     "text": [
      "<class 'pandas.core.frame.DataFrame'>\n",
      "RangeIndex: 51 entries, 0 to 50\n",
      "Data columns (total 5 columns):\n",
      " #   Column                              Non-Null Count  Dtype \n",
      "---  ------                              --------------  ----- \n",
      " 0   State                               51 non-null     object\n",
      " 1   Participation                       51 non-null     object\n",
      " 2   Evidence-Based Reading and Writing  51 non-null     int64 \n",
      " 3   Math                                51 non-null     int64 \n",
      " 4   Total                               51 non-null     int64 \n",
      "dtypes: int64(3), object(2)\n",
      "memory usage: 2.1+ KB\n"
     ]
    }
   ],
   "source": [
    "# Check SAT 2018 datatypes\n",
    "sat_2018.info()"
   ]
  },
  {
   "cell_type": "code",
   "execution_count": 11,
   "metadata": {},
   "outputs": [
    {
     "name": "stdout",
     "output_type": "stream",
     "text": [
      "<class 'pandas.core.frame.DataFrame'>\n",
      "RangeIndex: 53 entries, 0 to 52\n",
      "Data columns (total 5 columns):\n",
      " #   Column              Non-Null Count  Dtype \n",
      "---  ------              --------------  ----- \n",
      " 0   State               53 non-null     object\n",
      " 1   Participation Rate  53 non-null     object\n",
      " 2   EBRW                53 non-null     int64 \n",
      " 3   Math                53 non-null     int64 \n",
      " 4   Total               53 non-null     int64 \n",
      "dtypes: int64(3), object(2)\n",
      "memory usage: 2.2+ KB\n"
     ]
    }
   ],
   "source": [
    "# Check SAT 2019 datatypes\n",
    "sat_2019.info()"
   ]
  },
  {
   "cell_type": "code",
   "execution_count": 12,
   "metadata": {},
   "outputs": [],
   "source": [
    "# Set up a list of proper column names\n",
    "sat_cols = ['state','participation','reading_writing','maths','total']\n",
    "\n",
    "# Rename columns in SAT df's\n",
    "sat_2017 = sat_2017.set_axis(sat_cols, axis='columns')\n",
    "sat_2018 = sat_2018.set_axis(sat_cols, axis='columns')\n",
    "sat_2019 = sat_2019.set_axis(sat_cols, axis='columns')"
   ]
  },
  {
   "cell_type": "code",
   "execution_count": 13,
   "metadata": {},
   "outputs": [],
   "source": [
    "# Add 'year' column to each SAT df's\n",
    "sat_2017['year'] = 2017\n",
    "sat_2018['year'] = 2018\n",
    "sat_2019['year'] = 2019"
   ]
  },
  {
   "cell_type": "code",
   "execution_count": 14,
   "metadata": {},
   "outputs": [],
   "source": [
    "# Combine SAT df's using 'concat' method to create one SAT\n",
    "sat_df = pd.concat([sat_2017,sat_2018,sat_2019], ignore_index=True)"
   ]
  },
  {
   "cell_type": "code",
   "execution_count": 15,
   "metadata": {},
   "outputs": [
    {
     "name": "stdout",
     "output_type": "stream",
     "text": [
      "<class 'pandas.core.frame.DataFrame'>\n",
      "RangeIndex: 155 entries, 0 to 154\n",
      "Data columns (total 6 columns):\n",
      " #   Column           Non-Null Count  Dtype \n",
      "---  ------           --------------  ----- \n",
      " 0   state            155 non-null    object\n",
      " 1   participation    155 non-null    object\n",
      " 2   reading_writing  155 non-null    int64 \n",
      " 3   maths            155 non-null    int64 \n",
      " 4   total            155 non-null    int64 \n",
      " 5   year             155 non-null    int64 \n",
      "dtypes: int64(4), object(2)\n",
      "memory usage: 7.4+ KB\n"
     ]
    }
   ],
   "source": [
    "# Check datatypes of combined df\n",
    "sat_df.info()"
   ]
  },
  {
   "cell_type": "code",
   "execution_count": 16,
   "metadata": {},
   "outputs": [
    {
     "data": {
      "text/html": [
       "<div>\n",
       "<style scoped>\n",
       "    .dataframe tbody tr th:only-of-type {\n",
       "        vertical-align: middle;\n",
       "    }\n",
       "\n",
       "    .dataframe tbody tr th {\n",
       "        vertical-align: top;\n",
       "    }\n",
       "\n",
       "    .dataframe thead th {\n",
       "        text-align: right;\n",
       "    }\n",
       "</style>\n",
       "<table border=\"1\" class=\"dataframe\">\n",
       "  <thead>\n",
       "    <tr style=\"text-align: right;\">\n",
       "      <th></th>\n",
       "      <th>state</th>\n",
       "      <th>participation</th>\n",
       "      <th>reading_writing</th>\n",
       "      <th>maths</th>\n",
       "      <th>total</th>\n",
       "      <th>year</th>\n",
       "    </tr>\n",
       "  </thead>\n",
       "  <tbody>\n",
       "    <tr>\n",
       "      <th>141</th>\n",
       "      <td>Puerto Rico</td>\n",
       "      <td>—</td>\n",
       "      <td>483</td>\n",
       "      <td>462</td>\n",
       "      <td>944</td>\n",
       "      <td>2019</td>\n",
       "    </tr>\n",
       "    <tr>\n",
       "      <th>149</th>\n",
       "      <td>Virgin Islands</td>\n",
       "      <td>—</td>\n",
       "      <td>490</td>\n",
       "      <td>445</td>\n",
       "      <td>935</td>\n",
       "      <td>2019</td>\n",
       "    </tr>\n",
       "  </tbody>\n",
       "</table>\n",
       "</div>"
      ],
      "text/plain": [
       "              state participation  reading_writing  maths  total  year\n",
       "141     Puerto Rico             —              483    462    944  2019\n",
       "149  Virgin Islands             —              490    445    935  2019"
      ]
     },
     "execution_count": 16,
     "metadata": {},
     "output_type": "execute_result"
    }
   ],
   "source": [
    "# Participation shouldn't be 'string' - investigation shows string symbols (\"—\")\n",
    "sat_df[sat_df['participation'].str.contains('—') == True]"
   ]
  },
  {
   "cell_type": "code",
   "execution_count": 17,
   "metadata": {},
   "outputs": [],
   "source": [
    "# Drop columns with (\"—\") since there is only 2 rows\n",
    "sat_df = sat_df[sat_df['participation'].str.contains('—') != True]"
   ]
  },
  {
   "cell_type": "code",
   "execution_count": 18,
   "metadata": {},
   "outputs": [],
   "source": [
    "# Convert participation column to percentage using our created function\n",
    "sat_df['participation'] = sat_df['participation'].apply(convert_pct)"
   ]
  },
  {
   "cell_type": "code",
   "execution_count": 19,
   "metadata": {},
   "outputs": [
    {
     "data": {
      "text/html": [
       "<div>\n",
       "<style scoped>\n",
       "    .dataframe tbody tr th:only-of-type {\n",
       "        vertical-align: middle;\n",
       "    }\n",
       "\n",
       "    .dataframe tbody tr th {\n",
       "        vertical-align: top;\n",
       "    }\n",
       "\n",
       "    .dataframe thead th {\n",
       "        text-align: right;\n",
       "    }\n",
       "</style>\n",
       "<table border=\"1\" class=\"dataframe\">\n",
       "  <thead>\n",
       "    <tr style=\"text-align: right;\">\n",
       "      <th></th>\n",
       "      <th>state</th>\n",
       "      <th>participation</th>\n",
       "      <th>reading_writing</th>\n",
       "      <th>maths</th>\n",
       "      <th>total</th>\n",
       "      <th>year</th>\n",
       "    </tr>\n",
       "  </thead>\n",
       "  <tbody>\n",
       "    <tr>\n",
       "      <th>0</th>\n",
       "      <td>Alabama</td>\n",
       "      <td>0.05</td>\n",
       "      <td>593</td>\n",
       "      <td>572</td>\n",
       "      <td>1165</td>\n",
       "      <td>2017</td>\n",
       "    </tr>\n",
       "    <tr>\n",
       "      <th>1</th>\n",
       "      <td>Alaska</td>\n",
       "      <td>0.38</td>\n",
       "      <td>547</td>\n",
       "      <td>533</td>\n",
       "      <td>1080</td>\n",
       "      <td>2017</td>\n",
       "    </tr>\n",
       "    <tr>\n",
       "      <th>2</th>\n",
       "      <td>Arizona</td>\n",
       "      <td>0.30</td>\n",
       "      <td>563</td>\n",
       "      <td>553</td>\n",
       "      <td>1116</td>\n",
       "      <td>2017</td>\n",
       "    </tr>\n",
       "    <tr>\n",
       "      <th>3</th>\n",
       "      <td>Arkansas</td>\n",
       "      <td>0.03</td>\n",
       "      <td>614</td>\n",
       "      <td>594</td>\n",
       "      <td>1208</td>\n",
       "      <td>2017</td>\n",
       "    </tr>\n",
       "    <tr>\n",
       "      <th>4</th>\n",
       "      <td>California</td>\n",
       "      <td>0.53</td>\n",
       "      <td>531</td>\n",
       "      <td>524</td>\n",
       "      <td>1055</td>\n",
       "      <td>2017</td>\n",
       "    </tr>\n",
       "  </tbody>\n",
       "</table>\n",
       "</div>"
      ],
      "text/plain": [
       "        state  participation  reading_writing  maths  total  year\n",
       "0     Alabama           0.05              593    572   1165  2017\n",
       "1      Alaska           0.38              547    533   1080  2017\n",
       "2     Arizona           0.30              563    553   1116  2017\n",
       "3    Arkansas           0.03              614    594   1208  2017\n",
       "4  California           0.53              531    524   1055  2017"
      ]
     },
     "execution_count": 19,
     "metadata": {},
     "output_type": "execute_result"
    }
   ],
   "source": [
    "# check dataframe\n",
    "sat_df.head(5)"
   ]
  },
  {
   "cell_type": "code",
   "execution_count": 20,
   "metadata": {},
   "outputs": [
    {
     "name": "stdout",
     "output_type": "stream",
     "text": [
      "<class 'pandas.core.frame.DataFrame'>\n",
      "Int64Index: 153 entries, 0 to 154\n",
      "Data columns (total 6 columns):\n",
      " #   Column           Non-Null Count  Dtype  \n",
      "---  ------           --------------  -----  \n",
      " 0   state            153 non-null    object \n",
      " 1   participation    153 non-null    float64\n",
      " 2   reading_writing  153 non-null    int64  \n",
      " 3   maths            153 non-null    int64  \n",
      " 4   total            153 non-null    int64  \n",
      " 5   year             153 non-null    int64  \n",
      "dtypes: float64(1), int64(4), object(1)\n",
      "memory usage: 8.4+ KB\n"
     ]
    }
   ],
   "source": [
    "# Recheck datatype\n",
    "sat_df.info()"
   ]
  },
  {
   "cell_type": "markdown",
   "metadata": {},
   "source": [
    "Data Dictionary of `sat_df` dataframe"
   ]
  },
  {
   "cell_type": "markdown",
   "metadata": {},
   "source": [
    "|Field #|Field Name|Type|Dataset|Description|\n",
    "|---|---|---|---|---|\n",
    "|0|state|str|sat_df|State in the US|\n",
    "|1|participation|float|sat_df|Percentage test takers from this state|\n",
    "|2|reading_writing|int64|sat_df|Average reading & writing score|\n",
    "|3|maths|int64|sat_df|Average maths score|\n",
    "|4|total|int64|sat_df|Average total score|\n",
    "|5|year|int64|sat_df|Year of test|"
   ]
  },
  {
   "cell_type": "code",
   "execution_count": 21,
   "metadata": {},
   "outputs": [],
   "source": [
    "# Save combined dataframe as csv\n",
    "sat_df.to_csv('../data/cleaned/sat_df_cleaned.csv')"
   ]
  },
  {
   "cell_type": "markdown",
   "metadata": {
    "scrolled": false
   },
   "source": [
    "#### Cleaning : ACT dataframe"
   ]
  },
  {
   "cell_type": "code",
   "execution_count": 22,
   "metadata": {
    "scrolled": true
   },
   "outputs": [
    {
     "name": "stdout",
     "output_type": "stream",
     "text": [
      "<class 'pandas.core.frame.DataFrame'>\n",
      "RangeIndex: 52 entries, 0 to 51\n",
      "Data columns (total 7 columns):\n",
      " #   Column         Non-Null Count  Dtype  \n",
      "---  ------         --------------  -----  \n",
      " 0   State          52 non-null     object \n",
      " 1   Participation  52 non-null     object \n",
      " 2   English        52 non-null     float64\n",
      " 3   Math           52 non-null     float64\n",
      " 4   Reading        52 non-null     float64\n",
      " 5   Science        52 non-null     float64\n",
      " 6   Composite      52 non-null     object \n",
      "dtypes: float64(4), object(3)\n",
      "memory usage: 3.0+ KB\n"
     ]
    }
   ],
   "source": [
    "# Check ACT 2017 datatypes\n",
    "act_2017.info()"
   ]
  },
  {
   "cell_type": "code",
   "execution_count": 23,
   "metadata": {},
   "outputs": [
    {
     "name": "stdout",
     "output_type": "stream",
     "text": [
      "<class 'pandas.core.frame.DataFrame'>\n",
      "RangeIndex: 52 entries, 0 to 51\n",
      "Data columns (total 3 columns):\n",
      " #   Column         Non-Null Count  Dtype  \n",
      "---  ------         --------------  -----  \n",
      " 0   State          52 non-null     object \n",
      " 1   Participation  52 non-null     object \n",
      " 2   Composite      52 non-null     float64\n",
      "dtypes: float64(1), object(2)\n",
      "memory usage: 1.3+ KB\n"
     ]
    }
   ],
   "source": [
    "# Check ACT 2018 datatypes\n",
    "act_2018.info()"
   ]
  },
  {
   "cell_type": "code",
   "execution_count": 24,
   "metadata": {},
   "outputs": [
    {
     "name": "stdout",
     "output_type": "stream",
     "text": [
      "<class 'pandas.core.frame.DataFrame'>\n",
      "RangeIndex: 52 entries, 0 to 51\n",
      "Data columns (total 3 columns):\n",
      " #   Column         Non-Null Count  Dtype  \n",
      "---  ------         --------------  -----  \n",
      " 0   State          52 non-null     object \n",
      " 1   Participation  52 non-null     object \n",
      " 2   Composite      52 non-null     float64\n",
      "dtypes: float64(1), object(2)\n",
      "memory usage: 1.3+ KB\n"
     ]
    }
   ],
   "source": [
    "# Check ACT 2019 datatypes\n",
    "act_2019.info()"
   ]
  },
  {
   "cell_type": "code",
   "execution_count": 25,
   "metadata": {},
   "outputs": [],
   "source": [
    "# Setup dictionary for ACT column names\n",
    "\n",
    "act_cols = {'State':'state','Participation':'participation','English':'english','Math':'maths',\\\n",
    "            'Reading':'reading','Science':'science','Composite':'composite'}\n",
    "\n",
    "# Rename columns\n",
    "act_2017 = act_2017.rename(columns = act_cols)\n",
    "act_2018 = act_2018.rename(columns = act_cols)\n",
    "act_2019 = act_2019.rename(columns = act_cols)"
   ]
  },
  {
   "cell_type": "code",
   "execution_count": 26,
   "metadata": {},
   "outputs": [],
   "source": [
    "# Add 'year' column to each dataframe\n",
    "act_2017['year'] = 2017\n",
    "act_2018['year'] = 2018\n",
    "act_2019['year'] = 2019"
   ]
  },
  {
   "cell_type": "code",
   "execution_count": 27,
   "metadata": {},
   "outputs": [
    {
     "data": {
      "text/html": [
       "<div>\n",
       "<style scoped>\n",
       "    .dataframe tbody tr th:only-of-type {\n",
       "        vertical-align: middle;\n",
       "    }\n",
       "\n",
       "    .dataframe tbody tr th {\n",
       "        vertical-align: top;\n",
       "    }\n",
       "\n",
       "    .dataframe thead th {\n",
       "        text-align: right;\n",
       "    }\n",
       "</style>\n",
       "<table border=\"1\" class=\"dataframe\">\n",
       "  <thead>\n",
       "    <tr style=\"text-align: right;\">\n",
       "      <th></th>\n",
       "      <th>state</th>\n",
       "      <th>participation</th>\n",
       "      <th>composite</th>\n",
       "      <th>year</th>\n",
       "    </tr>\n",
       "  </thead>\n",
       "  <tbody>\n",
       "    <tr>\n",
       "      <th>0</th>\n",
       "      <td>Alabama</td>\n",
       "      <td>100%</td>\n",
       "      <td>18.9</td>\n",
       "      <td>2019</td>\n",
       "    </tr>\n",
       "    <tr>\n",
       "      <th>1</th>\n",
       "      <td>Alaska</td>\n",
       "      <td>38%</td>\n",
       "      <td>20.1</td>\n",
       "      <td>2019</td>\n",
       "    </tr>\n",
       "    <tr>\n",
       "      <th>2</th>\n",
       "      <td>Arizona</td>\n",
       "      <td>73%</td>\n",
       "      <td>19.0</td>\n",
       "      <td>2019</td>\n",
       "    </tr>\n",
       "  </tbody>\n",
       "</table>\n",
       "</div>"
      ],
      "text/plain": [
       "     state participation  composite  year\n",
       "0  Alabama          100%       18.9  2019\n",
       "1   Alaska           38%       20.1  2019\n",
       "2  Arizona           73%       19.0  2019"
      ]
     },
     "execution_count": 27,
     "metadata": {},
     "output_type": "execute_result"
    }
   ],
   "source": [
    "# Check dataframe\n",
    "act_2019.head(3)"
   ]
  },
  {
   "cell_type": "code",
   "execution_count": 28,
   "metadata": {},
   "outputs": [
    {
     "data": {
      "text/html": [
       "<div>\n",
       "<style scoped>\n",
       "    .dataframe tbody tr th:only-of-type {\n",
       "        vertical-align: middle;\n",
       "    }\n",
       "\n",
       "    .dataframe tbody tr th {\n",
       "        vertical-align: top;\n",
       "    }\n",
       "\n",
       "    .dataframe thead th {\n",
       "        text-align: right;\n",
       "    }\n",
       "</style>\n",
       "<table border=\"1\" class=\"dataframe\">\n",
       "  <thead>\n",
       "    <tr style=\"text-align: right;\">\n",
       "      <th></th>\n",
       "      <th>state</th>\n",
       "      <th>participation</th>\n",
       "      <th>composite</th>\n",
       "      <th>year</th>\n",
       "    </tr>\n",
       "  </thead>\n",
       "  <tbody>\n",
       "    <tr>\n",
       "      <th>0</th>\n",
       "      <td>Alabama</td>\n",
       "      <td>100%</td>\n",
       "      <td>19.1</td>\n",
       "      <td>2018</td>\n",
       "    </tr>\n",
       "    <tr>\n",
       "      <th>1</th>\n",
       "      <td>Alaska</td>\n",
       "      <td>33%</td>\n",
       "      <td>20.8</td>\n",
       "      <td>2018</td>\n",
       "    </tr>\n",
       "    <tr>\n",
       "      <th>2</th>\n",
       "      <td>Arizona</td>\n",
       "      <td>66%</td>\n",
       "      <td>19.2</td>\n",
       "      <td>2018</td>\n",
       "    </tr>\n",
       "  </tbody>\n",
       "</table>\n",
       "</div>"
      ],
      "text/plain": [
       "     state participation  composite  year\n",
       "0  Alabama          100%       19.1  2018\n",
       "1   Alaska           33%       20.8  2018\n",
       "2  Arizona           66%       19.2  2018"
      ]
     },
     "execution_count": 28,
     "metadata": {},
     "output_type": "execute_result"
    }
   ],
   "source": [
    "# Check dataframe\n",
    "act_2018.head(3)"
   ]
  },
  {
   "cell_type": "code",
   "execution_count": 29,
   "metadata": {
    "scrolled": true
   },
   "outputs": [
    {
     "data": {
      "text/html": [
       "<div>\n",
       "<style scoped>\n",
       "    .dataframe tbody tr th:only-of-type {\n",
       "        vertical-align: middle;\n",
       "    }\n",
       "\n",
       "    .dataframe tbody tr th {\n",
       "        vertical-align: top;\n",
       "    }\n",
       "\n",
       "    .dataframe thead th {\n",
       "        text-align: right;\n",
       "    }\n",
       "</style>\n",
       "<table border=\"1\" class=\"dataframe\">\n",
       "  <thead>\n",
       "    <tr style=\"text-align: right;\">\n",
       "      <th></th>\n",
       "      <th>state</th>\n",
       "      <th>participation</th>\n",
       "      <th>english</th>\n",
       "      <th>maths</th>\n",
       "      <th>reading</th>\n",
       "      <th>science</th>\n",
       "      <th>composite</th>\n",
       "      <th>year</th>\n",
       "    </tr>\n",
       "  </thead>\n",
       "  <tbody>\n",
       "    <tr>\n",
       "      <th>0</th>\n",
       "      <td>National</td>\n",
       "      <td>60%</td>\n",
       "      <td>20.3</td>\n",
       "      <td>20.7</td>\n",
       "      <td>21.4</td>\n",
       "      <td>21.0</td>\n",
       "      <td>21.0</td>\n",
       "      <td>2017</td>\n",
       "    </tr>\n",
       "    <tr>\n",
       "      <th>1</th>\n",
       "      <td>Alabama</td>\n",
       "      <td>100%</td>\n",
       "      <td>18.9</td>\n",
       "      <td>18.4</td>\n",
       "      <td>19.7</td>\n",
       "      <td>19.4</td>\n",
       "      <td>19.2</td>\n",
       "      <td>2017</td>\n",
       "    </tr>\n",
       "    <tr>\n",
       "      <th>2</th>\n",
       "      <td>Alaska</td>\n",
       "      <td>65%</td>\n",
       "      <td>18.7</td>\n",
       "      <td>19.8</td>\n",
       "      <td>20.4</td>\n",
       "      <td>19.9</td>\n",
       "      <td>19.8</td>\n",
       "      <td>2017</td>\n",
       "    </tr>\n",
       "  </tbody>\n",
       "</table>\n",
       "</div>"
      ],
      "text/plain": [
       "      state participation  english  maths  reading  science composite  year\n",
       "0  National           60%     20.3   20.7     21.4     21.0      21.0  2017\n",
       "1   Alabama          100%     18.9   18.4     19.7     19.4      19.2  2017\n",
       "2    Alaska           65%     18.7   19.8     20.4     19.9      19.8  2017"
      ]
     },
     "execution_count": 29,
     "metadata": {},
     "output_type": "execute_result"
    }
   ],
   "source": [
    "# Check dataframe\n",
    "act_2017.head(3)"
   ]
  },
  {
   "cell_type": "code",
   "execution_count": 30,
   "metadata": {},
   "outputs": [],
   "source": [
    "# We're only interested in composite score and participation - select only those columns to merge\n",
    "act_2017_selected = act_2017[['state','participation','composite','year']]"
   ]
  },
  {
   "cell_type": "code",
   "execution_count": 31,
   "metadata": {},
   "outputs": [
    {
     "name": "stdout",
     "output_type": "stream",
     "text": [
      "<class 'pandas.core.frame.DataFrame'>\n",
      "RangeIndex: 52 entries, 0 to 51\n",
      "Data columns (total 4 columns):\n",
      " #   Column         Non-Null Count  Dtype \n",
      "---  ------         --------------  ----- \n",
      " 0   state          52 non-null     object\n",
      " 1   participation  52 non-null     object\n",
      " 2   composite      52 non-null     object\n",
      " 3   year           52 non-null     int64 \n",
      "dtypes: int64(1), object(3)\n",
      "memory usage: 1.8+ KB\n"
     ]
    }
   ],
   "source": [
    "# Check datatypes of merged df\n",
    "act_2017_selected.info()"
   ]
  },
  {
   "cell_type": "code",
   "execution_count": 32,
   "metadata": {},
   "outputs": [
    {
     "data": {
      "text/html": [
       "<div>\n",
       "<style scoped>\n",
       "    .dataframe tbody tr th:only-of-type {\n",
       "        vertical-align: middle;\n",
       "    }\n",
       "\n",
       "    .dataframe tbody tr th {\n",
       "        vertical-align: top;\n",
       "    }\n",
       "\n",
       "    .dataframe thead th {\n",
       "        text-align: right;\n",
       "    }\n",
       "</style>\n",
       "<table border=\"1\" class=\"dataframe\">\n",
       "  <thead>\n",
       "    <tr style=\"text-align: right;\">\n",
       "      <th></th>\n",
       "      <th>state</th>\n",
       "      <th>participation</th>\n",
       "      <th>composite</th>\n",
       "      <th>year</th>\n",
       "    </tr>\n",
       "  </thead>\n",
       "  <tbody>\n",
       "    <tr>\n",
       "      <th>51</th>\n",
       "      <td>Wyoming</td>\n",
       "      <td>100%</td>\n",
       "      <td>20.2x</td>\n",
       "      <td>2017</td>\n",
       "    </tr>\n",
       "  </tbody>\n",
       "</table>\n",
       "</div>"
      ],
      "text/plain": [
       "      state participation composite  year\n",
       "51  Wyoming          100%     20.2x  2017"
      ]
     },
     "execution_count": 32,
     "metadata": {},
     "output_type": "execute_result"
    }
   ],
   "source": [
    "# Participation shouldn't be a string investigation shows typo x\n",
    "act_2017_selected[act_2017_selected['composite'].str.contains('x')]"
   ]
  },
  {
   "cell_type": "code",
   "execution_count": 33,
   "metadata": {
    "scrolled": true
   },
   "outputs": [],
   "source": [
    "# Drop 'x' from 'composite' column\n",
    "act_2017_selected = act_2017_selected[act_2017_selected['composite'].str.contains('x') != True]"
   ]
  },
  {
   "cell_type": "code",
   "execution_count": 34,
   "metadata": {},
   "outputs": [],
   "source": [
    "# Combine the dataframe using 'Concat' to create one ACT dataframe\n",
    "act_df = pd.concat([act_2017_selected,act_2018,act_2019], ignore_index=True)"
   ]
  },
  {
   "cell_type": "code",
   "execution_count": 35,
   "metadata": {},
   "outputs": [
    {
     "name": "stdout",
     "output_type": "stream",
     "text": [
      "<class 'pandas.core.frame.DataFrame'>\n",
      "RangeIndex: 155 entries, 0 to 154\n",
      "Data columns (total 4 columns):\n",
      " #   Column         Non-Null Count  Dtype \n",
      "---  ------         --------------  ----- \n",
      " 0   state          155 non-null    object\n",
      " 1   participation  155 non-null    object\n",
      " 2   composite      155 non-null    object\n",
      " 3   year           155 non-null    int64 \n",
      "dtypes: int64(1), object(3)\n",
      "memory usage: 5.0+ KB\n"
     ]
    }
   ],
   "source": [
    "# Check datatypes of combined column\n",
    "act_df.info()"
   ]
  },
  {
   "cell_type": "code",
   "execution_count": 36,
   "metadata": {},
   "outputs": [],
   "source": [
    "# Apply convert percentage to participation\n",
    "act_df['participation'] = act_df['participation'].apply(convert_pct)"
   ]
  },
  {
   "cell_type": "code",
   "execution_count": 37,
   "metadata": {},
   "outputs": [],
   "source": [
    "# Convert composite column to float\n",
    "act_df['composite'] = act_df['composite'].apply(lambda x : float(x))"
   ]
  },
  {
   "cell_type": "code",
   "execution_count": 38,
   "metadata": {},
   "outputs": [
    {
     "data": {
      "text/html": [
       "<div>\n",
       "<style scoped>\n",
       "    .dataframe tbody tr th:only-of-type {\n",
       "        vertical-align: middle;\n",
       "    }\n",
       "\n",
       "    .dataframe tbody tr th {\n",
       "        vertical-align: top;\n",
       "    }\n",
       "\n",
       "    .dataframe thead th {\n",
       "        text-align: right;\n",
       "    }\n",
       "</style>\n",
       "<table border=\"1\" class=\"dataframe\">\n",
       "  <thead>\n",
       "    <tr style=\"text-align: right;\">\n",
       "      <th></th>\n",
       "      <th>state</th>\n",
       "      <th>participation</th>\n",
       "      <th>composite</th>\n",
       "      <th>year</th>\n",
       "    </tr>\n",
       "  </thead>\n",
       "  <tbody>\n",
       "    <tr>\n",
       "      <th>20</th>\n",
       "      <td>Maine</td>\n",
       "      <td>0.08</td>\n",
       "      <td>24.3</td>\n",
       "      <td>2017</td>\n",
       "    </tr>\n",
       "    <tr>\n",
       "      <th>70</th>\n",
       "      <td>Maine</td>\n",
       "      <td>0.07</td>\n",
       "      <td>24.0</td>\n",
       "      <td>2018</td>\n",
       "    </tr>\n",
       "    <tr>\n",
       "      <th>71</th>\n",
       "      <td>Maine</td>\n",
       "      <td>0.07</td>\n",
       "      <td>24.0</td>\n",
       "      <td>2018</td>\n",
       "    </tr>\n",
       "    <tr>\n",
       "      <th>122</th>\n",
       "      <td>Maine</td>\n",
       "      <td>0.06</td>\n",
       "      <td>24.3</td>\n",
       "      <td>2019</td>\n",
       "    </tr>\n",
       "  </tbody>\n",
       "</table>\n",
       "</div>"
      ],
      "text/plain": [
       "     state  participation  composite  year\n",
       "20   Maine           0.08       24.3  2017\n",
       "70   Maine           0.07       24.0  2018\n",
       "71   Maine           0.07       24.0  2018\n",
       "122  Maine           0.06       24.3  2019"
      ]
     },
     "execution_count": 38,
     "metadata": {},
     "output_type": "execute_result"
    }
   ],
   "source": [
    "# From exploration, there are duplicates - let's investigate\n",
    "act_df[act_df['state']=='Maine']"
   ]
  },
  {
   "cell_type": "code",
   "execution_count": 39,
   "metadata": {},
   "outputs": [],
   "source": [
    "act_df = act_df.drop_duplicates()\n",
    "\n",
    "# Exploration show duplicates with spelling, lets' drop them\n",
    "act_df = act_df[act_df['state'].str.contains('District') == False]"
   ]
  },
  {
   "cell_type": "code",
   "execution_count": 40,
   "metadata": {},
   "outputs": [
    {
     "name": "stdout",
     "output_type": "stream",
     "text": [
      "<class 'pandas.core.frame.DataFrame'>\n",
      "Int64Index: 151 entries, 0 to 154\n",
      "Data columns (total 4 columns):\n",
      " #   Column         Non-Null Count  Dtype  \n",
      "---  ------         --------------  -----  \n",
      " 0   state          151 non-null    object \n",
      " 1   participation  151 non-null    float64\n",
      " 2   composite      151 non-null    float64\n",
      " 3   year           151 non-null    int64  \n",
      "dtypes: float64(2), int64(1), object(1)\n",
      "memory usage: 5.9+ KB\n"
     ]
    }
   ],
   "source": [
    "# check dataframe\n",
    "act_df.info()"
   ]
  },
  {
   "cell_type": "markdown",
   "metadata": {},
   "source": [
    "Data Dictionary of `act_df` dataframe"
   ]
  },
  {
   "cell_type": "markdown",
   "metadata": {},
   "source": [
    "|Field #|Field Name|Type|Dataset|Description|\n",
    "|---|---|---|---|---|\n",
    "|0|state|str|act_df|State in the US|\n",
    "|1|participation|float|act_df|Percentage test takers from this state|\n",
    "|2|composite|float|act_df|Average composite score|\n",
    "|3|year|int64|act_df|Year of test|"
   ]
  },
  {
   "cell_type": "code",
   "execution_count": 41,
   "metadata": {},
   "outputs": [],
   "source": [
    "# Save combined dataframe as csv\n",
    "act_df.to_csv('../data/cleaned/act_df_cleaned.csv')"
   ]
  },
  {
   "cell_type": "markdown",
   "metadata": {},
   "source": [
    "#### Data Cleaning : ACT in CA dataframe"
   ]
  },
  {
   "cell_type": "code",
   "execution_count": 42,
   "metadata": {
    "scrolled": true
   },
   "outputs": [
    {
     "data": {
      "text/html": [
       "<div>\n",
       "<style scoped>\n",
       "    .dataframe tbody tr th:only-of-type {\n",
       "        vertical-align: middle;\n",
       "    }\n",
       "\n",
       "    .dataframe tbody tr th {\n",
       "        vertical-align: top;\n",
       "    }\n",
       "\n",
       "    .dataframe thead th {\n",
       "        text-align: right;\n",
       "    }\n",
       "</style>\n",
       "<table border=\"1\" class=\"dataframe\">\n",
       "  <thead>\n",
       "    <tr style=\"text-align: right;\">\n",
       "      <th></th>\n",
       "      <th>CDS</th>\n",
       "      <th>CCode</th>\n",
       "      <th>CDCode</th>\n",
       "      <th>SCode</th>\n",
       "      <th>RType</th>\n",
       "      <th>SName</th>\n",
       "      <th>DName</th>\n",
       "      <th>CName</th>\n",
       "      <th>Enroll12</th>\n",
       "      <th>NumTstTakr</th>\n",
       "      <th>AvgScrRead</th>\n",
       "      <th>AvgScrEng</th>\n",
       "      <th>AvgScrMath</th>\n",
       "      <th>AvgScrSci</th>\n",
       "      <th>NumGE21</th>\n",
       "      <th>PctGE21</th>\n",
       "      <th>Year</th>\n",
       "      <th>Unnamed: 17</th>\n",
       "    </tr>\n",
       "  </thead>\n",
       "  <tbody>\n",
       "    <tr>\n",
       "      <th>0</th>\n",
       "      <td>3.366993e+13</td>\n",
       "      <td>33.0</td>\n",
       "      <td>3366993.0</td>\n",
       "      <td>129882.0</td>\n",
       "      <td>S</td>\n",
       "      <td>21st Century Learning Institute</td>\n",
       "      <td>Beaumont Unified</td>\n",
       "      <td>Riverside</td>\n",
       "      <td>18.0</td>\n",
       "      <td>0.0</td>\n",
       "      <td>NaN</td>\n",
       "      <td>NaN</td>\n",
       "      <td>NaN</td>\n",
       "      <td>NaN</td>\n",
       "      <td>NaN</td>\n",
       "      <td>NaN</td>\n",
       "      <td>2018-19</td>\n",
       "      <td>NaN</td>\n",
       "    </tr>\n",
       "    <tr>\n",
       "      <th>1</th>\n",
       "      <td>1.964212e+13</td>\n",
       "      <td>19.0</td>\n",
       "      <td>1964212.0</td>\n",
       "      <td>1995596.0</td>\n",
       "      <td>S</td>\n",
       "      <td>ABC Secondary (Alternative)</td>\n",
       "      <td>ABC Unified</td>\n",
       "      <td>Los Angeles</td>\n",
       "      <td>58.0</td>\n",
       "      <td>0.0</td>\n",
       "      <td>NaN</td>\n",
       "      <td>NaN</td>\n",
       "      <td>NaN</td>\n",
       "      <td>NaN</td>\n",
       "      <td>NaN</td>\n",
       "      <td>NaN</td>\n",
       "      <td>2018-19</td>\n",
       "      <td>NaN</td>\n",
       "    </tr>\n",
       "    <tr>\n",
       "      <th>2</th>\n",
       "      <td>1.563776e+13</td>\n",
       "      <td>15.0</td>\n",
       "      <td>1563776.0</td>\n",
       "      <td>1530377.0</td>\n",
       "      <td>S</td>\n",
       "      <td>Abraham Lincoln Alternative</td>\n",
       "      <td>Southern Kern Unified</td>\n",
       "      <td>Kern</td>\n",
       "      <td>18.0</td>\n",
       "      <td>0.0</td>\n",
       "      <td>NaN</td>\n",
       "      <td>NaN</td>\n",
       "      <td>NaN</td>\n",
       "      <td>NaN</td>\n",
       "      <td>NaN</td>\n",
       "      <td>NaN</td>\n",
       "      <td>2018-19</td>\n",
       "      <td>NaN</td>\n",
       "    </tr>\n",
       "  </tbody>\n",
       "</table>\n",
       "</div>"
      ],
      "text/plain": [
       "            CDS  CCode     CDCode      SCode RType  \\\n",
       "0  3.366993e+13   33.0  3366993.0   129882.0     S   \n",
       "1  1.964212e+13   19.0  1964212.0  1995596.0     S   \n",
       "2  1.563776e+13   15.0  1563776.0  1530377.0     S   \n",
       "\n",
       "                             SName                  DName        CName  \\\n",
       "0  21st Century Learning Institute       Beaumont Unified    Riverside   \n",
       "1      ABC Secondary (Alternative)            ABC Unified  Los Angeles   \n",
       "2      Abraham Lincoln Alternative  Southern Kern Unified         Kern   \n",
       "\n",
       "   Enroll12  NumTstTakr AvgScrRead AvgScrEng AvgScrMath AvgScrSci NumGE21  \\\n",
       "0      18.0         0.0        NaN       NaN        NaN       NaN     NaN   \n",
       "1      58.0         0.0        NaN       NaN        NaN       NaN     NaN   \n",
       "2      18.0         0.0        NaN       NaN        NaN       NaN     NaN   \n",
       "\n",
       "  PctGE21     Year  Unnamed: 17  \n",
       "0     NaN  2018-19          NaN  \n",
       "1     NaN  2018-19          NaN  \n",
       "2     NaN  2018-19          NaN  "
      ]
     },
     "execution_count": 42,
     "metadata": {},
     "output_type": "execute_result"
    }
   ],
   "source": [
    "# Check dataframe\n",
    "act_2019_ca.head(3)"
   ]
  },
  {
   "cell_type": "code",
   "execution_count": 43,
   "metadata": {},
   "outputs": [],
   "source": [
    "# Set a dictionary to rename columns properly\n",
    "cols_to_rename = {'CDS':'cds_code', 'CCode':'county_code', 'CDCode':'district_code', 'SCode':'school_code',\\\n",
    "                  'RType':'record_type', 'SName':'school_name', 'DName':'district_name', 'CName':'county_name',\\\n",
    "                  'Enroll12':'grade_12_enroll', 'NumTstTakr':'test_takers', 'AvgScrRead':'avg_reading_score',\\\n",
    "                  'AvgScrEng':'avg_english_score', 'AvgScrMath':'avg_maths_score','AvgScrSci':'avg_science_score',\\\n",
    "                  'NumGE21':'num_ge_21', 'PctGE21':'pct_ge_21', 'Year':'year', 'Unnamed: 17':'other'}"
   ]
  },
  {
   "cell_type": "code",
   "execution_count": 44,
   "metadata": {},
   "outputs": [],
   "source": [
    "# Rename columns to make it easier to read\n",
    "act_2019_ca = act_2019_ca.rename(columns = cols_to_rename)"
   ]
  },
  {
   "cell_type": "code",
   "execution_count": 45,
   "metadata": {},
   "outputs": [
    {
     "data": {
      "image/png": "[encoded data removed]",
      "text/plain": [
       "<Figure size 864x432 with 2 Axes>"
      ]
     },
     "metadata": {
      "needs_background": "light"
     },
     "output_type": "display_data"
    }
   ],
   "source": [
    "# Visualize trends of missing value to decide methods of treating missing values\n",
    "fig, axes = plt.subplots(figsize=(12,6))\n",
    "\n",
    "# Style\n",
    "axes.set_title('checking for missing values')\n",
    "\n",
    "# Plot\n",
    "sns.heatmap(act_2019_ca.isnull());\n",
    "\n",
    "# Missing school_code and school_name means it is a district/county level of record\n",
    "# Missing district_name means it is a county level of record"
   ]
  },
  {
   "cell_type": "code",
   "execution_count": 46,
   "metadata": {},
   "outputs": [],
   "source": [
    "# Drop 'other' column\n",
    "act_2019_ca.drop('other',axis=1,inplace=True)"
   ]
  },
  {
   "cell_type": "code",
   "execution_count": 47,
   "metadata": {
    "scrolled": true
   },
   "outputs": [
    {
     "data": {
      "text/plain": [
       "cds_code              0.043290\n",
       "county_code           0.043290\n",
       "district_code         0.043290\n",
       "school_code          22.640693\n",
       "record_type           0.043290\n",
       "school_name          25.151515\n",
       "district_name         2.554113\n",
       "county_name           0.043290\n",
       "grade_12_enroll       0.043290\n",
       "test_takers           0.043290\n",
       "avg_reading_score    15.454545\n",
       "avg_english_score    15.454545\n",
       "avg_maths_score      15.454545\n",
       "avg_science_score    15.454545\n",
       "num_ge_21            15.454545\n",
       "pct_ge_21            15.454545\n",
       "year                  0.043290\n",
       "dtype: float64"
      ]
     },
     "execution_count": 47,
     "metadata": {},
     "output_type": "execute_result"
    }
   ],
   "source": [
    "# Check null values\n",
    "act_2019_ca.isnull().mean()*100"
   ]
  },
  {
   "cell_type": "code",
   "execution_count": 48,
   "metadata": {},
   "outputs": [],
   "source": [
    "# They're district level record so we will fill them with 'D level'\n",
    "act_2019_ca['school_code'] = act_2019_ca['school_code'].fillna('D level')\n",
    "act_2019_ca['school_name'] = act_2019_ca['school_name'].fillna('D level')"
   ]
  },
  {
   "cell_type": "code",
   "execution_count": 49,
   "metadata": {},
   "outputs": [],
   "source": [
    "# Drop missing row from cds_code as it makes up only 0.04%\n",
    "act_2019_ca = act_2019_ca[act_2019_ca['cds_code'].notna()]"
   ]
  },
  {
   "cell_type": "code",
   "execution_count": 50,
   "metadata": {},
   "outputs": [],
   "source": [
    "# Similarly for district_name - they are county level record - fill with 'C level'\n",
    "act_2019_ca['district_name'] = act_2019_ca['district_name'].fillna('C level')"
   ]
  },
  {
   "cell_type": "code",
   "execution_count": 51,
   "metadata": {},
   "outputs": [],
   "source": [
    "# Fill those with 0 num and 0 percentage\n",
    "\n",
    "act_2019_ca = act_2019_ca.fillna(0)"
   ]
  },
  {
   "cell_type": "code",
   "execution_count": 52,
   "metadata": {},
   "outputs": [],
   "source": [
    "# Drop year column since its only one year\n",
    "act_2019_ca = act_2019_ca.drop('year',axis=1)"
   ]
  },
  {
   "cell_type": "code",
   "execution_count": 53,
   "metadata": {},
   "outputs": [
    {
     "data": {
      "text/html": [
       "<div>\n",
       "<style scoped>\n",
       "    .dataframe tbody tr th:only-of-type {\n",
       "        vertical-align: middle;\n",
       "    }\n",
       "\n",
       "    .dataframe tbody tr th {\n",
       "        vertical-align: top;\n",
       "    }\n",
       "\n",
       "    .dataframe thead th {\n",
       "        text-align: right;\n",
       "    }\n",
       "</style>\n",
       "<table border=\"1\" class=\"dataframe\">\n",
       "  <thead>\n",
       "    <tr style=\"text-align: right;\">\n",
       "      <th></th>\n",
       "      <th>cds_code</th>\n",
       "      <th>county_code</th>\n",
       "      <th>district_code</th>\n",
       "      <th>school_code</th>\n",
       "      <th>record_type</th>\n",
       "      <th>school_name</th>\n",
       "      <th>district_name</th>\n",
       "      <th>county_name</th>\n",
       "      <th>grade_12_enroll</th>\n",
       "      <th>test_takers</th>\n",
       "      <th>avg_reading_score</th>\n",
       "      <th>avg_english_score</th>\n",
       "      <th>avg_maths_score</th>\n",
       "      <th>avg_science_score</th>\n",
       "      <th>num_ge_21</th>\n",
       "      <th>pct_ge_21</th>\n",
       "    </tr>\n",
       "  </thead>\n",
       "  <tbody>\n",
       "    <tr>\n",
       "      <th>0</th>\n",
       "      <td>3.366993e+13</td>\n",
       "      <td>33.0</td>\n",
       "      <td>3366993.0</td>\n",
       "      <td>129882.0</td>\n",
       "      <td>S</td>\n",
       "      <td>21st Century Learning Institute</td>\n",
       "      <td>Beaumont Unified</td>\n",
       "      <td>Riverside</td>\n",
       "      <td>18.0</td>\n",
       "      <td>0.0</td>\n",
       "      <td>0</td>\n",
       "      <td>0</td>\n",
       "      <td>0</td>\n",
       "      <td>0</td>\n",
       "      <td>0</td>\n",
       "      <td>0</td>\n",
       "    </tr>\n",
       "    <tr>\n",
       "      <th>1</th>\n",
       "      <td>1.964212e+13</td>\n",
       "      <td>19.0</td>\n",
       "      <td>1964212.0</td>\n",
       "      <td>1995596.0</td>\n",
       "      <td>S</td>\n",
       "      <td>ABC Secondary (Alternative)</td>\n",
       "      <td>ABC Unified</td>\n",
       "      <td>Los Angeles</td>\n",
       "      <td>58.0</td>\n",
       "      <td>0.0</td>\n",
       "      <td>0</td>\n",
       "      <td>0</td>\n",
       "      <td>0</td>\n",
       "      <td>0</td>\n",
       "      <td>0</td>\n",
       "      <td>0</td>\n",
       "    </tr>\n",
       "    <tr>\n",
       "      <th>2</th>\n",
       "      <td>1.563776e+13</td>\n",
       "      <td>15.0</td>\n",
       "      <td>1563776.0</td>\n",
       "      <td>1530377.0</td>\n",
       "      <td>S</td>\n",
       "      <td>Abraham Lincoln Alternative</td>\n",
       "      <td>Southern Kern Unified</td>\n",
       "      <td>Kern</td>\n",
       "      <td>18.0</td>\n",
       "      <td>0.0</td>\n",
       "      <td>0</td>\n",
       "      <td>0</td>\n",
       "      <td>0</td>\n",
       "      <td>0</td>\n",
       "      <td>0</td>\n",
       "      <td>0</td>\n",
       "    </tr>\n",
       "  </tbody>\n",
       "</table>\n",
       "</div>"
      ],
      "text/plain": [
       "       cds_code  county_code  district_code school_code record_type  \\\n",
       "0  3.366993e+13         33.0      3366993.0    129882.0           S   \n",
       "1  1.964212e+13         19.0      1964212.0   1995596.0           S   \n",
       "2  1.563776e+13         15.0      1563776.0   1530377.0           S   \n",
       "\n",
       "                       school_name          district_name  county_name  \\\n",
       "0  21st Century Learning Institute       Beaumont Unified    Riverside   \n",
       "1      ABC Secondary (Alternative)            ABC Unified  Los Angeles   \n",
       "2      Abraham Lincoln Alternative  Southern Kern Unified         Kern   \n",
       "\n",
       "   grade_12_enroll  test_takers avg_reading_score avg_english_score  \\\n",
       "0             18.0          0.0                 0                 0   \n",
       "1             58.0          0.0                 0                 0   \n",
       "2             18.0          0.0                 0                 0   \n",
       "\n",
       "  avg_maths_score avg_science_score num_ge_21 pct_ge_21  \n",
       "0               0                 0         0         0  \n",
       "1               0                 0         0         0  \n",
       "2               0                 0         0         0  "
      ]
     },
     "execution_count": 53,
     "metadata": {},
     "output_type": "execute_result"
    }
   ],
   "source": [
    "# Check dataframe\n",
    "act_2019_ca.head(3)"
   ]
  },
  {
   "cell_type": "code",
   "execution_count": 54,
   "metadata": {},
   "outputs": [
    {
     "name": "stdout",
     "output_type": "stream",
     "text": [
      "<class 'pandas.core.frame.DataFrame'>\n",
      "Int64Index: 2309 entries, 0 to 2308\n",
      "Data columns (total 16 columns):\n",
      " #   Column             Non-Null Count  Dtype  \n",
      "---  ------             --------------  -----  \n",
      " 0   cds_code           2309 non-null   float64\n",
      " 1   county_code        2309 non-null   float64\n",
      " 2   district_code      2309 non-null   float64\n",
      " 3   school_code        2309 non-null   object \n",
      " 4   record_type        2309 non-null   object \n",
      " 5   school_name        2309 non-null   object \n",
      " 6   district_name      2309 non-null   object \n",
      " 7   county_name        2309 non-null   object \n",
      " 8   grade_12_enroll    2309 non-null   float64\n",
      " 9   test_takers        2309 non-null   float64\n",
      " 10  avg_reading_score  2309 non-null   object \n",
      " 11  avg_english_score  2309 non-null   object \n",
      " 12  avg_maths_score    2309 non-null   object \n",
      " 13  avg_science_score  2309 non-null   object \n",
      " 14  num_ge_21          2309 non-null   object \n",
      " 15  pct_ge_21          2309 non-null   object \n",
      "dtypes: float64(5), object(11)\n",
      "memory usage: 306.7+ KB\n"
     ]
    }
   ],
   "source": [
    "# Check datatype\n",
    "act_2019_ca.info()"
   ]
  },
  {
   "cell_type": "markdown",
   "metadata": {},
   "source": [
    "Data Dictionary of `act_2019_ca` dataframe"
   ]
  },
  {
   "cell_type": "markdown",
   "metadata": {},
   "source": [
    "|Field #|Field Name|Type|Dataset|Description|\n",
    "|---|---|---|---|---|\n",
    "|1|cds_code|float|act_2019_ca|County/District/School Code|\n",
    "|2|county_code|float|act_2019_ca|County Code|\n",
    "|3|district_code|float|act_2019_ca|District Code|\n",
    "|4|school_code|str|act_2019_ca|School Code|\n",
    "|5|record_type|str|act_2019_ca|Record Type: C=County, D=District, S=School, X=State|\n",
    "|6|school_name|str|act_2019_ca|School Name, N/A = County or District Level Record|\n",
    "|7|district_name|str|act_2019_ca|District/LEA Name, N/A = County Level Record|\n",
    "|8|county_name|str|act_2019_ca|County Name|\n",
    "|9|grade_12_enroll|float|act_2019_ca|Enrollment of Grade 12|\n",
    "|10|test_takers|float|act_2019_ca|Number of Test Takers|\n",
    "|11|avg_reading_score|str|act_2019_ca|Average ACT Reading Score|\n",
    "|12|avg_english_score|str|act_2019_ca|Average ACT English Score|\n",
    "|13|avg_maths_score|str|act_2019_ca|Average ACT Maths Score|\n",
    "|14|avg_science_score|str|act_2019_ca|Average ACT Science Score|\n",
    "|15|num_ge_21|str|act_2019_ca|Number of Test Takers Whose ACT Composite Scores Are Greater or Equal to 21.|\n",
    "|16|pct_ge_21|str|act_2019_ca|Percent of Test Takers Whose ACT Composite Scores Are Greater or Equal to 21.|\n",
    "|16|year|str|act_2019_ca|The ACT test administration year: 2018-19|"
   ]
  },
  {
   "cell_type": "code",
   "execution_count": 55,
   "metadata": {},
   "outputs": [],
   "source": [
    "# Save dataframe to csv\n",
    "act_2019_ca.to_csv('../data/cleaned/act_2019_ca_df_cleaned.csv')"
   ]
  },
  {
   "cell_type": "markdown",
   "metadata": {},
   "source": [
    "#### Check out SAT in CA dataframe"
   ]
  },
  {
   "cell_type": "code",
   "execution_count": 56,
   "metadata": {},
   "outputs": [],
   "source": [
    "# Set up a dictionary to rename column\n",
    "cols = {'CDS':'cds_code', 'CCode':'county_code', 'CDCode':'district_code', 'SCode':'school_code', 'RType':'record_type',\\\n",
    "        'SName':'school_name', 'DName':'district_name', 'CName':'county_name','Enroll12':'grade_12_enroll',\\\n",
    "        'NumTSTTakr12':'grade_12_takers', 'NumERWBenchmark12':'grade_12_erw_bm_num',\\\n",
    "        'PctERWBenchmark12':'grade_12_erw_bm_pct','NumMathBenchmark12':'grade_12_maths_bm_num',\\\n",
    "        'PctMathBenchmark12':'grade_12_maths_bm_pct', 'Enroll11':'grade_11_enroll', 'NumTSTTakr11':'grade_11_takers',\\\n",
    "        'NumERWBenchmark11':'grade_11_erw_bm_num', 'PctERWBenchmark11':'grade_11_erw_bm_pct',\\\n",
    "        'NumMathBenchmark11':'grade_11_maths_bm_num','PctMathBenchmark11':'grade_11_maths_bm_pct',\\\n",
    "        'TotNumBothBenchmark12':'grade_12_total_bm_num', 'PctBothBenchmark12':'grade_12_total_bm_pct',\\\n",
    "        'TotNumBothBenchmark11':'grade_11_total_bm_num', 'PctBothBenchmark11':'grade_11_total_bm_pct',\\\n",
    "        'Year':'year', 'Unnamed: 25':'other'}"
   ]
  },
  {
   "cell_type": "code",
   "execution_count": 57,
   "metadata": {},
   "outputs": [],
   "source": [
    "# Rename columns to proper naming\n",
    "sat_2019_ca = sat_2019_ca.rename(columns = cols)"
   ]
  },
  {
   "cell_type": "code",
   "execution_count": 58,
   "metadata": {},
   "outputs": [
    {
     "data": {
      "text/plain": [
       "Index(['cds_code', 'county_code', 'district_code', 'school_code',\n",
       "       'record_type', 'school_name', 'district_name', 'county_name',\n",
       "       'grade_12_enroll', 'grade_12_takers', 'grade_12_erw_bm_num',\n",
       "       'grade_12_erw_bm_pct', 'grade_12_maths_bm_num', 'grade_12_maths_bm_pct',\n",
       "       'grade_11_enroll', 'grade_11_takers', 'grade_11_erw_bm_num',\n",
       "       'grade_11_erw_bm_pct', 'grade_11_maths_bm_num', 'grade_11_maths_bm_pct',\n",
       "       'grade_12_total_bm_num', 'grade_12_total_bm_pct',\n",
       "       'grade_11_total_bm_num', 'grade_11_total_bm_pct', 'year', 'other'],\n",
       "      dtype='object')"
      ]
     },
     "execution_count": 58,
     "metadata": {},
     "output_type": "execute_result"
    }
   ],
   "source": [
    "# Check that column is properly renamed \n",
    "sat_2019_ca.columns"
   ]
  },
  {
   "cell_type": "code",
   "execution_count": 59,
   "metadata": {},
   "outputs": [
    {
     "data": {
      "text/plain": [
       "(2580, 26)"
      ]
     },
     "execution_count": 59,
     "metadata": {},
     "output_type": "execute_result"
    }
   ],
   "source": [
    "# Check shape\n",
    "sat_2019_ca.shape"
   ]
  },
  {
   "cell_type": "code",
   "execution_count": 60,
   "metadata": {},
   "outputs": [],
   "source": [
    "# This column is empty so we will drop it\n",
    "sat_2019_ca = sat_2019_ca.drop('other',axis=1)"
   ]
  },
  {
   "cell_type": "code",
   "execution_count": 61,
   "metadata": {},
   "outputs": [
    {
     "data": {
      "text/plain": [
       "cds_code                  0.038760\n",
       "county_code               0.038760\n",
       "district_code             0.038760\n",
       "school_code               0.038760\n",
       "record_type               0.038760\n",
       "school_name              23.178295\n",
       "district_name             2.286822\n",
       "county_name               0.038760\n",
       "grade_12_enroll           0.038760\n",
       "grade_12_takers           0.038760\n",
       "grade_12_erw_bm_num      10.697674\n",
       "grade_12_erw_bm_pct      10.697674\n",
       "grade_12_maths_bm_num    10.697674\n",
       "grade_12_maths_bm_pct    10.697674\n",
       "grade_11_enroll           0.038760\n",
       "grade_11_takers           0.038760\n",
       "grade_11_erw_bm_num      12.054264\n",
       "grade_11_erw_bm_pct      12.054264\n",
       "grade_11_maths_bm_num    12.054264\n",
       "grade_11_maths_bm_pct    12.054264\n",
       "grade_12_total_bm_num    10.697674\n",
       "grade_12_total_bm_pct    10.697674\n",
       "grade_11_total_bm_num    12.054264\n",
       "grade_11_total_bm_pct    12.054264\n",
       "year                      0.038760\n",
       "dtype: float64"
      ]
     },
     "execution_count": 61,
     "metadata": {},
     "output_type": "execute_result"
    }
   ],
   "source": [
    "# Check for null values\n",
    "sat_2019_ca.isnull().mean()*100"
   ]
  },
  {
   "cell_type": "code",
   "execution_count": 62,
   "metadata": {
    "scrolled": false
   },
   "outputs": [
    {
     "data": {
      "image/png": "[encoded data removed]",
      "text/plain": [
       "<Figure size 864x432 with 2 Axes>"
      ]
     },
     "metadata": {
      "needs_background": "light"
     },
     "output_type": "display_data"
    }
   ],
   "source": [
    "# Visualize trends of missing value to decide methods of treating missing values\n",
    "fig, axes = plt.subplots(figsize=(12,6))\n",
    "\n",
    "# Style\n",
    "axes.set_title('checking for missing values')\n",
    "\n",
    "# Plot\n",
    "sns.heatmap(sat_2019_ca.isnull());"
   ]
  },
  {
   "cell_type": "code",
   "execution_count": 63,
   "metadata": {},
   "outputs": [],
   "source": [
    "# Columns are not grouped properly, we will rearrange columns to group grade 11 and grade 12\n",
    "cols_rearr = ['cds_code', 'county_code', 'district_code', 'school_code',\n",
    "              'record_type', 'school_name', 'district_name', 'county_name',\n",
    "              'grade_11_enroll', 'grade_11_takers','grade_11_erw_bm_num', 'grade_11_erw_bm_pct',\n",
    "              'grade_11_maths_bm_num', 'grade_11_maths_bm_pct','grade_11_total_bm_num','grade_11_total_bm_pct', \n",
    "              'grade_12_enroll', 'grade_12_takers', 'grade_12_erw_bm_num','grade_12_erw_bm_pct',\n",
    "              'grade_12_maths_bm_num','grade_12_maths_bm_pct','grade_12_total_bm_num', 'grade_12_total_bm_pct','year']"
   ]
  },
  {
   "cell_type": "code",
   "execution_count": 64,
   "metadata": {},
   "outputs": [],
   "source": [
    "sat_2019_ca = sat_2019_ca.reindex(columns = cols_rearr)"
   ]
  },
  {
   "cell_type": "code",
   "execution_count": 65,
   "metadata": {},
   "outputs": [],
   "source": [
    "# District and county level record so we will fill them with 'C/D level'\n",
    "sat_2019_ca['school_name'] = sat_2019_ca['school_name'].fillna('C/D level')"
   ]
  },
  {
   "cell_type": "code",
   "execution_count": 66,
   "metadata": {},
   "outputs": [],
   "source": [
    "# Similarly for district_name - they are county level record - fill with 'C level'\n",
    "sat_2019_ca['district_name'] = sat_2019_ca['district_name'].fillna('C level')"
   ]
  },
  {
   "cell_type": "code",
   "execution_count": 67,
   "metadata": {
    "scrolled": false
   },
   "outputs": [
    {
     "data": {
      "text/html": [
       "<div>\n",
       "<style scoped>\n",
       "    .dataframe tbody tr th:only-of-type {\n",
       "        vertical-align: middle;\n",
       "    }\n",
       "\n",
       "    .dataframe tbody tr th {\n",
       "        vertical-align: top;\n",
       "    }\n",
       "\n",
       "    .dataframe thead th {\n",
       "        text-align: right;\n",
       "    }\n",
       "</style>\n",
       "<table border=\"1\" class=\"dataframe\">\n",
       "  <thead>\n",
       "    <tr style=\"text-align: right;\">\n",
       "      <th></th>\n",
       "      <th>cds_code</th>\n",
       "      <th>county_code</th>\n",
       "      <th>district_code</th>\n",
       "      <th>school_code</th>\n",
       "      <th>record_type</th>\n",
       "      <th>school_name</th>\n",
       "      <th>district_name</th>\n",
       "      <th>county_name</th>\n",
       "      <th>grade_11_enroll</th>\n",
       "      <th>grade_11_takers</th>\n",
       "      <th>...</th>\n",
       "      <th>grade_11_total_bm_pct</th>\n",
       "      <th>grade_12_enroll</th>\n",
       "      <th>grade_12_takers</th>\n",
       "      <th>grade_12_erw_bm_num</th>\n",
       "      <th>grade_12_erw_bm_pct</th>\n",
       "      <th>grade_12_maths_bm_num</th>\n",
       "      <th>grade_12_maths_bm_pct</th>\n",
       "      <th>grade_12_total_bm_num</th>\n",
       "      <th>grade_12_total_bm_pct</th>\n",
       "      <th>year</th>\n",
       "    </tr>\n",
       "  </thead>\n",
       "  <tbody>\n",
       "    <tr>\n",
       "      <th>0</th>\n",
       "      <td>6.615981e+12</td>\n",
       "      <td>6.0</td>\n",
       "      <td>661598.0</td>\n",
       "      <td>630046.0</td>\n",
       "      <td>S</td>\n",
       "      <td>Colusa Alternative Home</td>\n",
       "      <td>Colusa Unified</td>\n",
       "      <td>Colusa</td>\n",
       "      <td>18.0</td>\n",
       "      <td>0.0</td>\n",
       "      <td>...</td>\n",
       "      <td>NaN</td>\n",
       "      <td>18.0</td>\n",
       "      <td>0.0</td>\n",
       "      <td>NaN</td>\n",
       "      <td>NaN</td>\n",
       "      <td>NaN</td>\n",
       "      <td>NaN</td>\n",
       "      <td>NaN</td>\n",
       "      <td>NaN</td>\n",
       "      <td>2018-19</td>\n",
       "    </tr>\n",
       "    <tr>\n",
       "      <th>12</th>\n",
       "      <td>1.563776e+13</td>\n",
       "      <td>15.0</td>\n",
       "      <td>1563776.0</td>\n",
       "      <td>1530377.0</td>\n",
       "      <td>S</td>\n",
       "      <td>Abraham Lincoln Alternative</td>\n",
       "      <td>Southern Kern Unified</td>\n",
       "      <td>Kern</td>\n",
       "      <td>27.0</td>\n",
       "      <td>0.0</td>\n",
       "      <td>...</td>\n",
       "      <td>NaN</td>\n",
       "      <td>18.0</td>\n",
       "      <td>0.0</td>\n",
       "      <td>NaN</td>\n",
       "      <td>NaN</td>\n",
       "      <td>NaN</td>\n",
       "      <td>NaN</td>\n",
       "      <td>NaN</td>\n",
       "      <td>NaN</td>\n",
       "      <td>2018-19</td>\n",
       "    </tr>\n",
       "    <tr>\n",
       "      <th>19</th>\n",
       "      <td>1.062117e+13</td>\n",
       "      <td>10.0</td>\n",
       "      <td>1062117.0</td>\n",
       "      <td>1030469.0</td>\n",
       "      <td>S</td>\n",
       "      <td>Enterprise Alternative</td>\n",
       "      <td>Clovis Unified</td>\n",
       "      <td>Fresno</td>\n",
       "      <td>15.0</td>\n",
       "      <td>0.0</td>\n",
       "      <td>...</td>\n",
       "      <td>NaN</td>\n",
       "      <td>18.0</td>\n",
       "      <td>0.0</td>\n",
       "      <td>NaN</td>\n",
       "      <td>NaN</td>\n",
       "      <td>NaN</td>\n",
       "      <td>NaN</td>\n",
       "      <td>NaN</td>\n",
       "      <td>NaN</td>\n",
       "      <td>2018-19</td>\n",
       "    </tr>\n",
       "    <tr>\n",
       "      <th>36</th>\n",
       "      <td>3.768163e+13</td>\n",
       "      <td>37.0</td>\n",
       "      <td>3768163.0</td>\n",
       "      <td>137109.0</td>\n",
       "      <td>S</td>\n",
       "      <td>Diego Valley East Public Charter</td>\n",
       "      <td>Julian Union Elementary</td>\n",
       "      <td>San Diego</td>\n",
       "      <td>183.0</td>\n",
       "      <td>1.0</td>\n",
       "      <td>...</td>\n",
       "      <td>*</td>\n",
       "      <td>78.0</td>\n",
       "      <td>0.0</td>\n",
       "      <td>NaN</td>\n",
       "      <td>NaN</td>\n",
       "      <td>NaN</td>\n",
       "      <td>NaN</td>\n",
       "      <td>NaN</td>\n",
       "      <td>NaN</td>\n",
       "      <td>2018-19</td>\n",
       "    </tr>\n",
       "    <tr>\n",
       "      <th>43</th>\n",
       "      <td>3.467314e+13</td>\n",
       "      <td>34.0</td>\n",
       "      <td>3467314.0</td>\n",
       "      <td>3430352.0</td>\n",
       "      <td>S</td>\n",
       "      <td>Las Flores High (Alternative)</td>\n",
       "      <td>Elk Grove Unified</td>\n",
       "      <td>Sacramento</td>\n",
       "      <td>33.0</td>\n",
       "      <td>1.0</td>\n",
       "      <td>...</td>\n",
       "      <td>*</td>\n",
       "      <td>64.0</td>\n",
       "      <td>0.0</td>\n",
       "      <td>NaN</td>\n",
       "      <td>NaN</td>\n",
       "      <td>NaN</td>\n",
       "      <td>NaN</td>\n",
       "      <td>NaN</td>\n",
       "      <td>NaN</td>\n",
       "      <td>2018-19</td>\n",
       "    </tr>\n",
       "  </tbody>\n",
       "</table>\n",
       "<p>5 rows × 25 columns</p>\n",
       "</div>"
      ],
      "text/plain": [
       "        cds_code  county_code  district_code  school_code record_type  \\\n",
       "0   6.615981e+12          6.0       661598.0     630046.0           S   \n",
       "12  1.563776e+13         15.0      1563776.0    1530377.0           S   \n",
       "19  1.062117e+13         10.0      1062117.0    1030469.0           S   \n",
       "36  3.768163e+13         37.0      3768163.0     137109.0           S   \n",
       "43  3.467314e+13         34.0      3467314.0    3430352.0           S   \n",
       "\n",
       "                         school_name            district_name county_name  \\\n",
       "0            Colusa Alternative Home           Colusa Unified      Colusa   \n",
       "12       Abraham Lincoln Alternative    Southern Kern Unified        Kern   \n",
       "19            Enterprise Alternative           Clovis Unified      Fresno   \n",
       "36  Diego Valley East Public Charter  Julian Union Elementary   San Diego   \n",
       "43     Las Flores High (Alternative)        Elk Grove Unified  Sacramento   \n",
       "\n",
       "    grade_11_enroll  grade_11_takers  ... grade_11_total_bm_pct  \\\n",
       "0              18.0              0.0  ...                   NaN   \n",
       "12             27.0              0.0  ...                   NaN   \n",
       "19             15.0              0.0  ...                   NaN   \n",
       "36            183.0              1.0  ...                     *   \n",
       "43             33.0              1.0  ...                     *   \n",
       "\n",
       "   grade_12_enroll grade_12_takers grade_12_erw_bm_num grade_12_erw_bm_pct  \\\n",
       "0             18.0             0.0                 NaN                 NaN   \n",
       "12            18.0             0.0                 NaN                 NaN   \n",
       "19            18.0             0.0                 NaN                 NaN   \n",
       "36            78.0             0.0                 NaN                 NaN   \n",
       "43            64.0             0.0                 NaN                 NaN   \n",
       "\n",
       "   grade_12_maths_bm_num  grade_12_maths_bm_pct  grade_12_total_bm_num  \\\n",
       "0                    NaN                    NaN                    NaN   \n",
       "12                   NaN                    NaN                    NaN   \n",
       "19                   NaN                    NaN                    NaN   \n",
       "36                   NaN                    NaN                    NaN   \n",
       "43                   NaN                    NaN                    NaN   \n",
       "\n",
       "   grade_12_total_bm_pct     year  \n",
       "0                    NaN  2018-19  \n",
       "12                   NaN  2018-19  \n",
       "19                   NaN  2018-19  \n",
       "36                   NaN  2018-19  \n",
       "43                   NaN  2018-19  \n",
       "\n",
       "[5 rows x 25 columns]"
      ]
     },
     "execution_count": 67,
     "metadata": {},
     "output_type": "execute_result"
    }
   ],
   "source": [
    "# Investigating empty grade 12 records\n",
    "sat_2019_ca[sat_2019_ca['grade_12_total_bm_num'].isnull()].head()\n",
    "\n",
    "# Missing values from possibly mean there are no takers - similar case for grade 11"
   ]
  },
  {
   "cell_type": "code",
   "execution_count": 68,
   "metadata": {},
   "outputs": [
    {
     "data": {
      "text/plain": [
       "cds_code                   1\n",
       "county_code                1\n",
       "district_code              1\n",
       "school_code                1\n",
       "record_type                1\n",
       "school_name                0\n",
       "district_name              0\n",
       "county_name                1\n",
       "grade_11_enroll            1\n",
       "grade_11_takers            1\n",
       "grade_11_erw_bm_num      311\n",
       "grade_11_erw_bm_pct      311\n",
       "grade_11_maths_bm_num    311\n",
       "grade_11_maths_bm_pct    311\n",
       "grade_11_total_bm_num    311\n",
       "grade_11_total_bm_pct    311\n",
       "grade_12_enroll            1\n",
       "grade_12_takers            1\n",
       "grade_12_erw_bm_num      276\n",
       "grade_12_erw_bm_pct      276\n",
       "grade_12_maths_bm_num    276\n",
       "grade_12_maths_bm_pct    276\n",
       "grade_12_total_bm_num    276\n",
       "grade_12_total_bm_pct    276\n",
       "year                       1\n",
       "dtype: int64"
      ]
     },
     "execution_count": 68,
     "metadata": {},
     "output_type": "execute_result"
    }
   ],
   "source": [
    "sat_2019_ca.isnull().sum()"
   ]
  },
  {
   "cell_type": "code",
   "execution_count": 69,
   "metadata": {},
   "outputs": [
    {
     "data": {
      "text/html": [
       "<div>\n",
       "<style scoped>\n",
       "    .dataframe tbody tr th:only-of-type {\n",
       "        vertical-align: middle;\n",
       "    }\n",
       "\n",
       "    .dataframe tbody tr th {\n",
       "        vertical-align: top;\n",
       "    }\n",
       "\n",
       "    .dataframe thead th {\n",
       "        text-align: right;\n",
       "    }\n",
       "</style>\n",
       "<table border=\"1\" class=\"dataframe\">\n",
       "  <thead>\n",
       "    <tr style=\"text-align: right;\">\n",
       "      <th></th>\n",
       "      <th>cds_code</th>\n",
       "      <th>county_code</th>\n",
       "      <th>district_code</th>\n",
       "      <th>school_code</th>\n",
       "      <th>record_type</th>\n",
       "      <th>school_name</th>\n",
       "      <th>district_name</th>\n",
       "      <th>county_name</th>\n",
       "      <th>grade_11_enroll</th>\n",
       "      <th>grade_11_takers</th>\n",
       "      <th>...</th>\n",
       "      <th>grade_11_total_bm_pct</th>\n",
       "      <th>grade_12_enroll</th>\n",
       "      <th>grade_12_takers</th>\n",
       "      <th>grade_12_erw_bm_num</th>\n",
       "      <th>grade_12_erw_bm_pct</th>\n",
       "      <th>grade_12_maths_bm_num</th>\n",
       "      <th>grade_12_maths_bm_pct</th>\n",
       "      <th>grade_12_total_bm_num</th>\n",
       "      <th>grade_12_total_bm_pct</th>\n",
       "      <th>year</th>\n",
       "    </tr>\n",
       "  </thead>\n",
       "  <tbody>\n",
       "    <tr>\n",
       "      <th>2579</th>\n",
       "      <td>NaN</td>\n",
       "      <td>NaN</td>\n",
       "      <td>NaN</td>\n",
       "      <td>NaN</td>\n",
       "      <td>NaN</td>\n",
       "      <td>C/D level</td>\n",
       "      <td>C level</td>\n",
       "      <td>NaN</td>\n",
       "      <td>NaN</td>\n",
       "      <td>NaN</td>\n",
       "      <td>...</td>\n",
       "      <td>NaN</td>\n",
       "      <td>NaN</td>\n",
       "      <td>NaN</td>\n",
       "      <td>NaN</td>\n",
       "      <td>NaN</td>\n",
       "      <td>NaN</td>\n",
       "      <td>NaN</td>\n",
       "      <td>NaN</td>\n",
       "      <td>NaN</td>\n",
       "      <td>NaN</td>\n",
       "    </tr>\n",
       "  </tbody>\n",
       "</table>\n",
       "<p>1 rows × 25 columns</p>\n",
       "</div>"
      ],
      "text/plain": [
       "      cds_code  county_code  district_code  school_code record_type  \\\n",
       "2579       NaN          NaN            NaN          NaN         NaN   \n",
       "\n",
       "     school_name district_name county_name  grade_11_enroll  grade_11_takers  \\\n",
       "2579   C/D level       C level         NaN              NaN              NaN   \n",
       "\n",
       "      ... grade_11_total_bm_pct grade_12_enroll grade_12_takers  \\\n",
       "2579  ...                   NaN             NaN             NaN   \n",
       "\n",
       "     grade_12_erw_bm_num grade_12_erw_bm_pct grade_12_maths_bm_num  \\\n",
       "2579                 NaN                 NaN                   NaN   \n",
       "\n",
       "      grade_12_maths_bm_pct  grade_12_total_bm_num grade_12_total_bm_pct year  \n",
       "2579                    NaN                    NaN                   NaN  NaN  \n",
       "\n",
       "[1 rows x 25 columns]"
      ]
     },
     "execution_count": 69,
     "metadata": {},
     "output_type": "execute_result"
    }
   ],
   "source": [
    "# Check nulls for no test takers for both grade 11 and grade 12\n",
    "sat_2019_ca[(sat_2019_ca['grade_11_takers'].isnull()) | (sat_2019_ca['grade_12_takers'].isnull())]"
   ]
  },
  {
   "cell_type": "code",
   "execution_count": 70,
   "metadata": {},
   "outputs": [],
   "source": [
    "# Only one so let's drop this\n",
    "sat_2019_ca = sat_2019_ca[sat_2019_ca['grade_11_takers'].notnull()]"
   ]
  },
  {
   "cell_type": "code",
   "execution_count": 71,
   "metadata": {},
   "outputs": [
    {
     "data": {
      "text/plain": [
       "(2579, 25)"
      ]
     },
     "execution_count": 71,
     "metadata": {},
     "output_type": "execute_result"
    }
   ],
   "source": [
    "# Confirm that the row was dropped\n",
    "sat_2019_ca.shape"
   ]
  },
  {
   "cell_type": "code",
   "execution_count": 72,
   "metadata": {},
   "outputs": [
    {
     "data": {
      "text/plain": [
       "(310, 6)"
      ]
     },
     "execution_count": 72,
     "metadata": {},
     "output_type": "execute_result"
    }
   ],
   "source": [
    "# check data for 0 grade 11 takers\n",
    "sat_2019_ca[sat_2019_ca['grade_11_takers'] == 0]\\\n",
    "[['grade_11_erw_bm_num','grade_11_erw_bm_pct','grade_11_maths_bm_num',\\\n",
    "  'grade_11_maths_bm_pct','grade_11_total_bm_num','grade_11_total_bm_pct']].shape\n",
    "\n",
    "# Missing from grade 11 scores are from those with 0 takes we can fill this with 0"
   ]
  },
  {
   "cell_type": "code",
   "execution_count": 73,
   "metadata": {},
   "outputs": [
    {
     "data": {
      "text/plain": [
       "(275, 6)"
      ]
     },
     "execution_count": 73,
     "metadata": {},
     "output_type": "execute_result"
    }
   ],
   "source": [
    "# Check data for 0 grade 12 takers\n",
    "sat_2019_ca[sat_2019_ca['grade_12_takers'] == 0]\\\n",
    "[['grade_12_erw_bm_num','grade_12_erw_bm_pct','grade_12_maths_bm_num',\\\n",
    "  'grade_12_maths_bm_pct','grade_12_total_bm_num','grade_12_total_bm_pct']].shape\n",
    "\n",
    "# Missing from grade 12 scores are from those with 0 takes we can fill this with 0"
   ]
  },
  {
   "cell_type": "code",
   "execution_count": 74,
   "metadata": {},
   "outputs": [
    {
     "data": {
      "text/plain": [
       "grade_11_erw_bm_num      310\n",
       "grade_11_erw_bm_pct      310\n",
       "grade_11_maths_bm_num    310\n",
       "grade_11_maths_bm_pct    310\n",
       "grade_11_total_bm_num    310\n",
       "grade_11_total_bm_pct    310\n",
       "grade_12_erw_bm_num      275\n",
       "grade_12_erw_bm_pct      275\n",
       "grade_12_maths_bm_num    275\n",
       "grade_12_maths_bm_pct    275\n",
       "grade_12_total_bm_num    275\n",
       "grade_12_total_bm_pct    275\n",
       "dtype: int64"
      ]
     },
     "execution_count": 74,
     "metadata": {},
     "output_type": "execute_result"
    }
   ],
   "source": [
    "# Filter out only remaining missing columns\n",
    "sat_2019_ca.isnull().sum()[sat_2019_ca.isnull().sum() != 0]"
   ]
  },
  {
   "cell_type": "code",
   "execution_count": 75,
   "metadata": {},
   "outputs": [],
   "source": [
    "# Fill those with 0 num and 0 percentage\n",
    "\n",
    "sat_2019_ca = sat_2019_ca.fillna(0)"
   ]
  },
  {
   "cell_type": "code",
   "execution_count": 76,
   "metadata": {},
   "outputs": [
    {
     "data": {
      "text/plain": [
       "Series([], dtype: int64)"
      ]
     },
     "execution_count": 76,
     "metadata": {},
     "output_type": "execute_result"
    }
   ],
   "source": [
    "# Filter out only remaining missing columns\n",
    "sat_2019_ca.isnull().sum()[sat_2019_ca.isnull().sum() != 0]\n",
    "# No more missing"
   ]
  },
  {
   "cell_type": "code",
   "execution_count": 77,
   "metadata": {},
   "outputs": [],
   "source": [
    "# Drop year column\n",
    "sat_2019_ca = sat_2019_ca.drop('year',axis=1)"
   ]
  },
  {
   "cell_type": "code",
   "execution_count": 78,
   "metadata": {
    "scrolled": false
   },
   "outputs": [
    {
     "data": {
      "text/html": [
       "<div>\n",
       "<style scoped>\n",
       "    .dataframe tbody tr th:only-of-type {\n",
       "        vertical-align: middle;\n",
       "    }\n",
       "\n",
       "    .dataframe tbody tr th {\n",
       "        vertical-align: top;\n",
       "    }\n",
       "\n",
       "    .dataframe thead th {\n",
       "        text-align: right;\n",
       "    }\n",
       "</style>\n",
       "<table border=\"1\" class=\"dataframe\">\n",
       "  <thead>\n",
       "    <tr style=\"text-align: right;\">\n",
       "      <th></th>\n",
       "      <th>cds_code</th>\n",
       "      <th>county_code</th>\n",
       "      <th>district_code</th>\n",
       "      <th>school_code</th>\n",
       "      <th>record_type</th>\n",
       "      <th>school_name</th>\n",
       "      <th>district_name</th>\n",
       "      <th>county_name</th>\n",
       "      <th>grade_11_enroll</th>\n",
       "      <th>grade_11_takers</th>\n",
       "      <th>...</th>\n",
       "      <th>grade_11_total_bm_num</th>\n",
       "      <th>grade_11_total_bm_pct</th>\n",
       "      <th>grade_12_enroll</th>\n",
       "      <th>grade_12_takers</th>\n",
       "      <th>grade_12_erw_bm_num</th>\n",
       "      <th>grade_12_erw_bm_pct</th>\n",
       "      <th>grade_12_maths_bm_num</th>\n",
       "      <th>grade_12_maths_bm_pct</th>\n",
       "      <th>grade_12_total_bm_num</th>\n",
       "      <th>grade_12_total_bm_pct</th>\n",
       "    </tr>\n",
       "  </thead>\n",
       "  <tbody>\n",
       "    <tr>\n",
       "      <th>0</th>\n",
       "      <td>6.615981e+12</td>\n",
       "      <td>6.0</td>\n",
       "      <td>661598.0</td>\n",
       "      <td>630046.0</td>\n",
       "      <td>S</td>\n",
       "      <td>Colusa Alternative Home</td>\n",
       "      <td>Colusa Unified</td>\n",
       "      <td>Colusa</td>\n",
       "      <td>18.0</td>\n",
       "      <td>0.0</td>\n",
       "      <td>...</td>\n",
       "      <td>0</td>\n",
       "      <td>0</td>\n",
       "      <td>18.0</td>\n",
       "      <td>0.0</td>\n",
       "      <td>0</td>\n",
       "      <td>0</td>\n",
       "      <td>0</td>\n",
       "      <td>0</td>\n",
       "      <td>0</td>\n",
       "      <td>0</td>\n",
       "    </tr>\n",
       "    <tr>\n",
       "      <th>1</th>\n",
       "      <td>6.616061e+12</td>\n",
       "      <td>6.0</td>\n",
       "      <td>661606.0</td>\n",
       "      <td>634758.0</td>\n",
       "      <td>S</td>\n",
       "      <td>Maxwell Sr High</td>\n",
       "      <td>Maxwell Unified</td>\n",
       "      <td>Colusa</td>\n",
       "      <td>26.0</td>\n",
       "      <td>6.0</td>\n",
       "      <td>...</td>\n",
       "      <td>*</td>\n",
       "      <td>*</td>\n",
       "      <td>29.0</td>\n",
       "      <td>10.0</td>\n",
       "      <td>*</td>\n",
       "      <td>*</td>\n",
       "      <td>*</td>\n",
       "      <td>*</td>\n",
       "      <td>*</td>\n",
       "      <td>*</td>\n",
       "    </tr>\n",
       "    <tr>\n",
       "      <th>2</th>\n",
       "      <td>1.964733e+13</td>\n",
       "      <td>19.0</td>\n",
       "      <td>1964733.0</td>\n",
       "      <td>1930924.0</td>\n",
       "      <td>S</td>\n",
       "      <td>Belmont Senior High</td>\n",
       "      <td>Los Angeles Unified</td>\n",
       "      <td>Los Angeles</td>\n",
       "      <td>219.0</td>\n",
       "      <td>174.0</td>\n",
       "      <td>...</td>\n",
       "      <td>11</td>\n",
       "      <td>6.32</td>\n",
       "      <td>206.0</td>\n",
       "      <td>102.0</td>\n",
       "      <td>31</td>\n",
       "      <td>30.39</td>\n",
       "      <td>14</td>\n",
       "      <td>13.73</td>\n",
       "      <td>14</td>\n",
       "      <td>13.73</td>\n",
       "    </tr>\n",
       "    <tr>\n",
       "      <th>3</th>\n",
       "      <td>1.964733e+13</td>\n",
       "      <td>19.0</td>\n",
       "      <td>1964733.0</td>\n",
       "      <td>1931476.0</td>\n",
       "      <td>S</td>\n",
       "      <td>Canoga Park Senior High</td>\n",
       "      <td>Los Angeles Unified</td>\n",
       "      <td>Los Angeles</td>\n",
       "      <td>333.0</td>\n",
       "      <td>275.0</td>\n",
       "      <td>...</td>\n",
       "      <td>35</td>\n",
       "      <td>12.73</td>\n",
       "      <td>227.0</td>\n",
       "      <td>113.0</td>\n",
       "      <td>54</td>\n",
       "      <td>47.79</td>\n",
       "      <td>18</td>\n",
       "      <td>15.93</td>\n",
       "      <td>18</td>\n",
       "      <td>15.93</td>\n",
       "    </tr>\n",
       "    <tr>\n",
       "      <th>4</th>\n",
       "      <td>1.964733e+13</td>\n",
       "      <td>19.0</td>\n",
       "      <td>1964733.0</td>\n",
       "      <td>1931856.0</td>\n",
       "      <td>S</td>\n",
       "      <td>Whitman Continuation</td>\n",
       "      <td>Los Angeles Unified</td>\n",
       "      <td>Los Angeles</td>\n",
       "      <td>17.0</td>\n",
       "      <td>5.0</td>\n",
       "      <td>...</td>\n",
       "      <td>*</td>\n",
       "      <td>*</td>\n",
       "      <td>18.0</td>\n",
       "      <td>14.0</td>\n",
       "      <td>*</td>\n",
       "      <td>*</td>\n",
       "      <td>*</td>\n",
       "      <td>*</td>\n",
       "      <td>*</td>\n",
       "      <td>*</td>\n",
       "    </tr>\n",
       "    <tr>\n",
       "      <th>...</th>\n",
       "      <td>...</td>\n",
       "      <td>...</td>\n",
       "      <td>...</td>\n",
       "      <td>...</td>\n",
       "      <td>...</td>\n",
       "      <td>...</td>\n",
       "      <td>...</td>\n",
       "      <td>...</td>\n",
       "      <td>...</td>\n",
       "      <td>...</td>\n",
       "      <td>...</td>\n",
       "      <td>...</td>\n",
       "      <td>...</td>\n",
       "      <td>...</td>\n",
       "      <td>...</td>\n",
       "      <td>...</td>\n",
       "      <td>...</td>\n",
       "      <td>...</td>\n",
       "      <td>...</td>\n",
       "      <td>...</td>\n",
       "      <td>...</td>\n",
       "    </tr>\n",
       "    <tr>\n",
       "      <th>2574</th>\n",
       "      <td>5.075556e+13</td>\n",
       "      <td>50.0</td>\n",
       "      <td>5075556.0</td>\n",
       "      <td>0.0</td>\n",
       "      <td>D</td>\n",
       "      <td>C/D level</td>\n",
       "      <td>Riverbank Unified</td>\n",
       "      <td>Stanislaus</td>\n",
       "      <td>213.0</td>\n",
       "      <td>78.0</td>\n",
       "      <td>...</td>\n",
       "      <td>21</td>\n",
       "      <td>26.92</td>\n",
       "      <td>179.0</td>\n",
       "      <td>40.0</td>\n",
       "      <td>23</td>\n",
       "      <td>57.50</td>\n",
       "      <td>13</td>\n",
       "      <td>32.50</td>\n",
       "      <td>11</td>\n",
       "      <td>27.50</td>\n",
       "    </tr>\n",
       "    <tr>\n",
       "      <th>2575</th>\n",
       "      <td>5.772678e+13</td>\n",
       "      <td>57.0</td>\n",
       "      <td>5772678.0</td>\n",
       "      <td>0.0</td>\n",
       "      <td>D</td>\n",
       "      <td>C/D level</td>\n",
       "      <td>Davis Joint Unified</td>\n",
       "      <td>Yolo</td>\n",
       "      <td>739.0</td>\n",
       "      <td>474.0</td>\n",
       "      <td>...</td>\n",
       "      <td>421</td>\n",
       "      <td>88.82</td>\n",
       "      <td>717.0</td>\n",
       "      <td>307.0</td>\n",
       "      <td>293</td>\n",
       "      <td>95.44</td>\n",
       "      <td>274</td>\n",
       "      <td>89.25</td>\n",
       "      <td>268</td>\n",
       "      <td>87.30</td>\n",
       "    </tr>\n",
       "    <tr>\n",
       "      <th>2576</th>\n",
       "      <td>7.000000e+12</td>\n",
       "      <td>7.0</td>\n",
       "      <td>700000.0</td>\n",
       "      <td>0.0</td>\n",
       "      <td>C</td>\n",
       "      <td>C/D level</td>\n",
       "      <td>C level</td>\n",
       "      <td>Contra Costa</td>\n",
       "      <td>14120.0</td>\n",
       "      <td>5157.0</td>\n",
       "      <td>...</td>\n",
       "      <td>3853</td>\n",
       "      <td>74.71</td>\n",
       "      <td>14593.0</td>\n",
       "      <td>5412.0</td>\n",
       "      <td>3798</td>\n",
       "      <td>70.18</td>\n",
       "      <td>2814</td>\n",
       "      <td>52.00</td>\n",
       "      <td>2721</td>\n",
       "      <td>50.28</td>\n",
       "    </tr>\n",
       "    <tr>\n",
       "      <th>2577</th>\n",
       "      <td>1.700000e+13</td>\n",
       "      <td>17.0</td>\n",
       "      <td>1700000.0</td>\n",
       "      <td>0.0</td>\n",
       "      <td>C</td>\n",
       "      <td>C/D level</td>\n",
       "      <td>C level</td>\n",
       "      <td>Lake</td>\n",
       "      <td>731.0</td>\n",
       "      <td>126.0</td>\n",
       "      <td>...</td>\n",
       "      <td>47</td>\n",
       "      <td>37.30</td>\n",
       "      <td>667.0</td>\n",
       "      <td>167.0</td>\n",
       "      <td>123</td>\n",
       "      <td>73.65</td>\n",
       "      <td>71</td>\n",
       "      <td>42.51</td>\n",
       "      <td>65</td>\n",
       "      <td>38.92</td>\n",
       "    </tr>\n",
       "    <tr>\n",
       "      <th>2578</th>\n",
       "      <td>3.800000e+13</td>\n",
       "      <td>38.0</td>\n",
       "      <td>3800000.0</td>\n",
       "      <td>0.0</td>\n",
       "      <td>C</td>\n",
       "      <td>C/D level</td>\n",
       "      <td>C level</td>\n",
       "      <td>San Francisco</td>\n",
       "      <td>4500.0</td>\n",
       "      <td>2042.0</td>\n",
       "      <td>...</td>\n",
       "      <td>1482</td>\n",
       "      <td>72.58</td>\n",
       "      <td>4447.0</td>\n",
       "      <td>2256.0</td>\n",
       "      <td>1579</td>\n",
       "      <td>69.99</td>\n",
       "      <td>1380</td>\n",
       "      <td>61.17</td>\n",
       "      <td>1248</td>\n",
       "      <td>55.32</td>\n",
       "    </tr>\n",
       "  </tbody>\n",
       "</table>\n",
       "<p>2579 rows × 24 columns</p>\n",
       "</div>"
      ],
      "text/plain": [
       "          cds_code  county_code  district_code  school_code record_type  \\\n",
       "0     6.615981e+12          6.0       661598.0     630046.0           S   \n",
       "1     6.616061e+12          6.0       661606.0     634758.0           S   \n",
       "2     1.964733e+13         19.0      1964733.0    1930924.0           S   \n",
       "3     1.964733e+13         19.0      1964733.0    1931476.0           S   \n",
       "4     1.964733e+13         19.0      1964733.0    1931856.0           S   \n",
       "...            ...          ...            ...          ...         ...   \n",
       "2574  5.075556e+13         50.0      5075556.0          0.0           D   \n",
       "2575  5.772678e+13         57.0      5772678.0          0.0           D   \n",
       "2576  7.000000e+12          7.0       700000.0          0.0           C   \n",
       "2577  1.700000e+13         17.0      1700000.0          0.0           C   \n",
       "2578  3.800000e+13         38.0      3800000.0          0.0           C   \n",
       "\n",
       "                  school_name        district_name    county_name  \\\n",
       "0     Colusa Alternative Home       Colusa Unified         Colusa   \n",
       "1             Maxwell Sr High      Maxwell Unified         Colusa   \n",
       "2         Belmont Senior High  Los Angeles Unified    Los Angeles   \n",
       "3     Canoga Park Senior High  Los Angeles Unified    Los Angeles   \n",
       "4        Whitman Continuation  Los Angeles Unified    Los Angeles   \n",
       "...                       ...                  ...            ...   \n",
       "2574                C/D level    Riverbank Unified     Stanislaus   \n",
       "2575                C/D level  Davis Joint Unified           Yolo   \n",
       "2576                C/D level              C level   Contra Costa   \n",
       "2577                C/D level              C level           Lake   \n",
       "2578                C/D level              C level  San Francisco   \n",
       "\n",
       "      grade_11_enroll  grade_11_takers  ... grade_11_total_bm_num  \\\n",
       "0                18.0              0.0  ...                     0   \n",
       "1                26.0              6.0  ...                     *   \n",
       "2               219.0            174.0  ...                    11   \n",
       "3               333.0            275.0  ...                    35   \n",
       "4                17.0              5.0  ...                     *   \n",
       "...               ...              ...  ...                   ...   \n",
       "2574            213.0             78.0  ...                    21   \n",
       "2575            739.0            474.0  ...                   421   \n",
       "2576          14120.0           5157.0  ...                  3853   \n",
       "2577            731.0            126.0  ...                    47   \n",
       "2578           4500.0           2042.0  ...                  1482   \n",
       "\n",
       "     grade_11_total_bm_pct grade_12_enroll grade_12_takers  \\\n",
       "0                        0            18.0             0.0   \n",
       "1                        *            29.0            10.0   \n",
       "2                     6.32           206.0           102.0   \n",
       "3                    12.73           227.0           113.0   \n",
       "4                        *            18.0            14.0   \n",
       "...                    ...             ...             ...   \n",
       "2574                 26.92           179.0            40.0   \n",
       "2575                 88.82           717.0           307.0   \n",
       "2576                 74.71         14593.0          5412.0   \n",
       "2577                 37.30           667.0           167.0   \n",
       "2578                 72.58          4447.0          2256.0   \n",
       "\n",
       "     grade_12_erw_bm_num grade_12_erw_bm_pct  grade_12_maths_bm_num  \\\n",
       "0                      0                   0                      0   \n",
       "1                      *                   *                      *   \n",
       "2                     31               30.39                     14   \n",
       "3                     54               47.79                     18   \n",
       "4                      *                   *                      *   \n",
       "...                  ...                 ...                    ...   \n",
       "2574                  23               57.50                     13   \n",
       "2575                 293               95.44                    274   \n",
       "2576                3798               70.18                   2814   \n",
       "2577                 123               73.65                     71   \n",
       "2578                1579               69.99                   1380   \n",
       "\n",
       "      grade_12_maths_bm_pct grade_12_total_bm_num grade_12_total_bm_pct  \n",
       "0                         0                     0                     0  \n",
       "1                         *                     *                     *  \n",
       "2                     13.73                    14                 13.73  \n",
       "3                     15.93                    18                 15.93  \n",
       "4                         *                     *                     *  \n",
       "...                     ...                   ...                   ...  \n",
       "2574                  32.50                    11                 27.50  \n",
       "2575                  89.25                   268                 87.30  \n",
       "2576                  52.00                  2721                 50.28  \n",
       "2577                  42.51                    65                 38.92  \n",
       "2578                  61.17                  1248                 55.32  \n",
       "\n",
       "[2579 rows x 24 columns]"
      ]
     },
     "execution_count": 78,
     "metadata": {},
     "output_type": "execute_result"
    }
   ],
   "source": [
    "# Check dataframe\n",
    "sat_2019_ca"
   ]
  },
  {
   "cell_type": "code",
   "execution_count": 79,
   "metadata": {},
   "outputs": [
    {
     "data": {
      "text/plain": [
       "1.2484509333126792"
      ]
     },
     "execution_count": 79,
     "metadata": {},
     "output_type": "execute_result"
    }
   ],
   "source": [
    "# Check how much '*' makes up the total data for grade 11\n",
    "\n",
    "# Total number of grade 11 takers from 'hidden schools'\n",
    "private_takers = sum(sat_2019_ca[sat_2019_ca['grade_11_total_bm_num']=='*']['grade_11_takers'])\n",
    "\n",
    "# Total number of grade 11 takers from 'record type - S'\n",
    "total_takers = sum(sat_2019_ca[sat_2019_ca['record_type']=='S']['grade_11_takers'])\n",
    "\n",
    "# Number of mean scores that we'll be dropping\n",
    "private_takers/total_takers*100"
   ]
  },
  {
   "cell_type": "code",
   "execution_count": 80,
   "metadata": {},
   "outputs": [
    {
     "data": {
      "text/plain": [
       "1.618556156325402"
      ]
     },
     "execution_count": 80,
     "metadata": {},
     "output_type": "execute_result"
    }
   ],
   "source": [
    "# Check how much '*' makes up the total data for grade 11\n",
    "\n",
    "# Total number of grade 11 takers from 'hidden schools'\n",
    "private_takers = sum(sat_2019_ca[sat_2019_ca['grade_12_total_bm_num']=='*']['grade_12_takers'])\n",
    "\n",
    "# Total number of grade 11 takers from 'record type - S'\n",
    "total_takers = sum(sat_2019_ca[sat_2019_ca['record_type']=='S']['grade_12_takers'])\n",
    "\n",
    "# Number of mean scores that we'll be dropping\n",
    "private_takers/total_takers*100"
   ]
  },
  {
   "cell_type": "code",
   "execution_count": 81,
   "metadata": {},
   "outputs": [],
   "source": [
    "# For further exploration we will separate dataframes\n",
    "# We will drop rows with '*' since they make up very little percentage of students\n",
    "\n",
    "# Dataframe of grade 11 takers\n",
    "sat_2019_ca_11 = sat_2019_ca[sat_2019_ca['grade_11_total_bm_num'] != '*']\n",
    "\n",
    "# Dataframe of grade 12 takers\n",
    "sat_2019_ca_12 = sat_2019_ca[sat_2019_ca['grade_12_total_bm_num'] != '*']\n",
    "\n",
    "# Dataframe of both grade 11 and grade 12 takers\n",
    "sat_2019_ca_both = sat_2019_ca[(sat_2019_ca['grade_11_total_bm_num'] != '*') & (sat_2019_ca['grade_12_total_bm_num'] != '*')]"
   ]
  },
  {
   "cell_type": "code",
   "execution_count": 82,
   "metadata": {},
   "outputs": [
    {
     "data": {
      "text/plain": [
       "Index(['cds_code', 'county_code', 'district_code', 'school_code',\n",
       "       'record_type', 'school_name', 'district_name', 'county_name',\n",
       "       'grade_11_enroll', 'grade_11_takers', 'grade_11_erw_bm_num',\n",
       "       'grade_11_erw_bm_pct', 'grade_11_maths_bm_num', 'grade_11_maths_bm_pct',\n",
       "       'grade_11_total_bm_num', 'grade_11_total_bm_pct', 'grade_12_enroll',\n",
       "       'grade_12_takers', 'grade_12_erw_bm_num', 'grade_12_erw_bm_pct',\n",
       "       'grade_12_maths_bm_num', 'grade_12_maths_bm_pct',\n",
       "       'grade_12_total_bm_num', 'grade_12_total_bm_pct'],\n",
       "      dtype='object')"
      ]
     },
     "execution_count": 82,
     "metadata": {},
     "output_type": "execute_result"
    }
   ],
   "source": [
    "# Check columns\n",
    "sat_2019_ca_both.columns"
   ]
  },
  {
   "cell_type": "code",
   "execution_count": 83,
   "metadata": {},
   "outputs": [],
   "source": [
    "# There are some unnecessary columns we will drop those columns to tidy up our data\n",
    "# Set up columns to drop\n",
    "\n",
    "# Columns to drop in all \n",
    "cols_to_drop = ['cds_code', 'county_code', 'district_code', 'school_code']\n",
    "\n",
    "# Columns to drop in grade 11 df\n",
    "cols_to_drop_11 = ['grade_11_enroll', 'grade_11_takers', 'grade_11_erw_bm_num',\n",
    "       'grade_11_erw_bm_pct', 'grade_11_maths_bm_num', 'grade_11_maths_bm_pct',\n",
    "       'grade_11_total_bm_num', 'grade_11_total_bm_pct']\n",
    "\n",
    "# Columns to drop in grade 12 df\n",
    "cols_to_drop_12 = ['grade_12_enroll',\n",
    "       'grade_12_takers', 'grade_12_erw_bm_num', 'grade_12_erw_bm_pct',\n",
    "       'grade_12_maths_bm_num', 'grade_12_maths_bm_pct',\n",
    "       'grade_12_total_bm_num', 'grade_12_total_bm_pct']\n",
    "\n",
    "# Columns to turn to type to float\n",
    "cols_to_float_11 = ['grade_11_erw_bm_num','grade_11_erw_bm_pct', 'grade_11_maths_bm_num', 'grade_11_maths_bm_pct',\n",
    "                    'grade_11_total_bm_num', 'grade_11_total_bm_pct']\n",
    "\n",
    "cols_to_float_12 = ['grade_12_erw_bm_num', 'grade_12_erw_bm_pct','grade_12_maths_bm_num', 'grade_12_maths_bm_pct',\n",
    "                    'grade_12_total_bm_num', 'grade_12_total_bm_pct']"
   ]
  },
  {
   "cell_type": "code",
   "execution_count": 84,
   "metadata": {},
   "outputs": [],
   "source": [
    "# Loop columns to drop for each dataframe\n",
    "for cols in cols_to_drop:\n",
    "    sat_2019_ca_11 = sat_2019_ca_11.drop(cols,axis=1)\n",
    "    sat_2019_ca_12 = sat_2019_ca_12.drop(cols,axis=1)\n",
    "    sat_2019_ca_both = sat_2019_ca_both.drop(cols,axis=1)"
   ]
  },
  {
   "cell_type": "code",
   "execution_count": 85,
   "metadata": {},
   "outputs": [],
   "source": [
    "# Loop columns to drop for grade 12 dataframe\n",
    "for cols in cols_to_drop_12:\n",
    "    sat_2019_ca_11 =  sat_2019_ca_11.drop(cols, axis=1)"
   ]
  },
  {
   "cell_type": "code",
   "execution_count": 86,
   "metadata": {},
   "outputs": [],
   "source": [
    "# Loop columns to drop for grade 11 dataframe\n",
    "for cols in cols_to_drop_11:\n",
    "    sat_2019_ca_12 =  sat_2019_ca_12.drop(cols, axis=1)"
   ]
  },
  {
   "cell_type": "code",
   "execution_count": 87,
   "metadata": {},
   "outputs": [],
   "source": [
    "# Loop columns to turn into float for all dataframe\n",
    "\n",
    "for cols in cols_to_float_11:\n",
    "    sat_2019_ca_11[cols] = sat_2019_ca_11[cols].apply(lambda x : float(x))\n",
    "    sat_2019_ca_both[cols] = sat_2019_ca_both[cols].apply(lambda x : float(x))\n",
    "    \n",
    "for cols in cols_to_float_12:\n",
    "    sat_2019_ca_12[cols] = sat_2019_ca_12[cols].apply(lambda x : float(x))\n",
    "    sat_2019_ca_both[cols] = sat_2019_ca_both[cols].apply(lambda x : float(x))"
   ]
  },
  {
   "cell_type": "code",
   "execution_count": 88,
   "metadata": {},
   "outputs": [],
   "source": [
    "# Save to csv\n",
    "sat_2019_ca_11.to_csv('../data/cleaned/sat_2019_ca_11_cleaned.csv')\n",
    "sat_2019_ca_12.to_csv('../data/cleaned/sat_2019_ca_12_cleaned.csv')\n",
    "sat_2019_ca_both.to_csv('../data/cleaned/sat_2019_ca_both_cleaned.csv')"
   ]
  },
  {
   "cell_type": "code",
   "execution_count": 89,
   "metadata": {
    "scrolled": false
   },
   "outputs": [
    {
     "name": "stdout",
     "output_type": "stream",
     "text": [
      "<class 'pandas.core.frame.DataFrame'>\n",
      "Int64Index: 2579 entries, 0 to 2578\n",
      "Data columns (total 24 columns):\n",
      " #   Column                 Non-Null Count  Dtype  \n",
      "---  ------                 --------------  -----  \n",
      " 0   cds_code               2579 non-null   float64\n",
      " 1   county_code            2579 non-null   float64\n",
      " 2   district_code          2579 non-null   float64\n",
      " 3   school_code            2579 non-null   float64\n",
      " 4   record_type            2579 non-null   object \n",
      " 5   school_name            2579 non-null   object \n",
      " 6   district_name          2579 non-null   object \n",
      " 7   county_name            2579 non-null   object \n",
      " 8   grade_11_enroll        2579 non-null   float64\n",
      " 9   grade_11_takers        2579 non-null   float64\n",
      " 10  grade_11_erw_bm_num    2579 non-null   object \n",
      " 11  grade_11_erw_bm_pct    2579 non-null   object \n",
      " 12  grade_11_maths_bm_num  2579 non-null   object \n",
      " 13  grade_11_maths_bm_pct  2579 non-null   object \n",
      " 14  grade_11_total_bm_num  2579 non-null   object \n",
      " 15  grade_11_total_bm_pct  2579 non-null   object \n",
      " 16  grade_12_enroll        2579 non-null   float64\n",
      " 17  grade_12_takers        2579 non-null   float64\n",
      " 18  grade_12_erw_bm_num    2579 non-null   object \n",
      " 19  grade_12_erw_bm_pct    2579 non-null   object \n",
      " 20  grade_12_maths_bm_num  2579 non-null   object \n",
      " 21  grade_12_maths_bm_pct  2579 non-null   object \n",
      " 22  grade_12_total_bm_num  2579 non-null   object \n",
      " 23  grade_12_total_bm_pct  2579 non-null   object \n",
      "dtypes: float64(8), object(16)\n",
      "memory usage: 503.7+ KB\n"
     ]
    }
   ],
   "source": [
    "sat_2019_ca.info()"
   ]
  },
  {
   "cell_type": "markdown",
   "metadata": {},
   "source": [
    "Data Dictionary of `sat_2019_ca` dataframe"
   ]
  },
  {
   "cell_type": "markdown",
   "metadata": {},
   "source": [
    "|Field #|Field Name|Type|Dataset|Description|\n",
    "|---|---|---|---|---|\n",
    "|0|cds_code|float|sat_2019_ca|County/District/School Code|\n",
    "|1|county_code|float|sat_2019_ca|County Code|\n",
    "|2|district_code|float|sat_2019_ca|District Code|\n",
    "|3|school_code|float|sat_2019_ca|School Code|\n",
    "|4|record_type|str|sat_2019_ca|Record Type: C=County, D=District, S=School, X=State|\n",
    "|5|school_name|str|sat_2019_ca|School Name, N/A = County or District Level Record|\n",
    "|6|district_name|str|sat_2019_ca|District/LEA Name, N/A = County Level Record|\n",
    "|7|county_name|str|sat_2019_ca|County Name|\n",
    "|8|grade_11_enroll|float|sat_2019_ca|Enrollment of Grade 11|\n",
    "|9|grade_11_takers|float|sat_2019_ca|Number of Test Takers Grade 11|\n",
    "|10|grade_11_erwb_bm_num|str|sat_2019_ca|The number meeting the Evidence-Based Reading & Writing (ERW) benchmark established by the College Board based on the New 2016 SAT test format as of March 2016 for Grade 11.|\n",
    "|11|grade_11_erwb_bm_pct|str|sat_2019_ca|The percent of students who met or exceeded the benchmark for Evidence-Based Reading & Writing (ERW) test for Grade 11.|\n",
    "|12|grade_11_erwb_maths_num|str|sat_2019_ca|The number of students who met or exceeded the benchmark for the New SAT Math test format as of March 2016 for Grade 11.|\n",
    "|13|grade_11_maths_bm_pct|str|sat_2019_ca|The percent of students who met or exceeded the benchmark for SAT Math test for Grade 11.|\n",
    "|14|grade_11_meet_bm_num|str|sat_2019_ca7|The total number of students who met the benchmark of both Evidence-Based Reading & Writing (ERW) and Math Grade 11.|\n",
    "|15|grade_11_meet_bm_pct|str|sat_2019_ca|The percent of students who met the benchmark of both Evidence-Based Reading & Writing (ERW) and Math Grade 11.|\n",
    "|16|grade_12_enroll|float|sat_2019_ca|Enrollment of Grade 12|\n",
    "|17|grade_12_takers|float|sat_2019_ca|Number of Test Takers Grade 12|\n",
    "|18|grade_12_erwb_bm_num|str|sat_2019_ca|The number meeting the Evidence-Based Reading & Writing (ERW) benchmark established by the College Board based on the New 2016 SAT test format as of March 2016 for Grade 12.|\n",
    "|19|grade_12_erwb_bm_pct|str|sat_2019_ca|The percent of students who met or exceeded the benchmark for Evidence-Based Reading & Writing (ERW) test for Grade 12.|\n",
    "|20|grade_12_maths_bm_num|str|sat_2019_ca|The number of students who met or exceeded the benchmark for the New SAT Math test format as of March 2016 for Grade 12.|\n",
    "|21|grade_12_maths_bm_pct|str|sat_2019_ca|The percent of students who met or exceeded the benchmark for SAT Math test for Grade 12.|\n",
    "|22|grade_12_meet_bm_num|str|sat_2019_ca|The total number of students who met the benchmark of both Evidence-Based Reading & Writing (ERW) and Math Grade 12.|\n",
    "|23|grade_12_meet_bm_pct|str|sat_2019_ca|The percent of students who met the benchmark of both Evidence-Based Reading & Writing (ERW) and Math Grade 12.|"
   ]
  },
  {
   "cell_type": "code",
   "execution_count": 90,
   "metadata": {},
   "outputs": [],
   "source": [
    "# Save to csv\n",
    "sat_2019_ca.to_csv('../data/cleaned/sat_2019_ca_df_cleaned.csv')"
   ]
  },
  {
   "cell_type": "markdown",
   "metadata": {},
   "source": [
    "#### Data Cleaning : SAT scores by Intended college major in 2019"
   ]
  },
  {
   "cell_type": "code",
   "execution_count": 91,
   "metadata": {},
   "outputs": [
    {
     "data": {
      "text/html": [
       "<div>\n",
       "<style scoped>\n",
       "    .dataframe tbody tr th:only-of-type {\n",
       "        vertical-align: middle;\n",
       "    }\n",
       "\n",
       "    .dataframe tbody tr th {\n",
       "        vertical-align: top;\n",
       "    }\n",
       "\n",
       "    .dataframe thead th {\n",
       "        text-align: right;\n",
       "    }\n",
       "</style>\n",
       "<table border=\"1\" class=\"dataframe\">\n",
       "  <thead>\n",
       "    <tr style=\"text-align: right;\">\n",
       "      <th></th>\n",
       "      <th>IntendedCollegeMajor</th>\n",
       "      <th>TestTakers</th>\n",
       "      <th>Percent</th>\n",
       "      <th>Total</th>\n",
       "      <th>ReadingWriting</th>\n",
       "      <th>Math</th>\n",
       "    </tr>\n",
       "  </thead>\n",
       "  <tbody>\n",
       "    <tr>\n",
       "      <th>0</th>\n",
       "      <td>Agriculture, AgricultureOperations, and Relate...</td>\n",
       "      <td>24,913</td>\n",
       "      <td>1%</td>\n",
       "      <td>977</td>\n",
       "      <td>496</td>\n",
       "      <td>481</td>\n",
       "    </tr>\n",
       "    <tr>\n",
       "      <th>1</th>\n",
       "      <td>Architecture and Related Services</td>\n",
       "      <td>28,988</td>\n",
       "      <td>2%</td>\n",
       "      <td>1047</td>\n",
       "      <td>520</td>\n",
       "      <td>527</td>\n",
       "    </tr>\n",
       "    <tr>\n",
       "      <th>2</th>\n",
       "      <td>Area, Ethnic, Cultural, and Gender Studies</td>\n",
       "      <td>2,629</td>\n",
       "      <td>0%</td>\n",
       "      <td>1040</td>\n",
       "      <td>536</td>\n",
       "      <td>504</td>\n",
       "    </tr>\n",
       "    <tr>\n",
       "      <th>3</th>\n",
       "      <td>Biological and Biomedical Sciences</td>\n",
       "      <td>155,834</td>\n",
       "      <td>8%</td>\n",
       "      <td>1139</td>\n",
       "      <td>572</td>\n",
       "      <td>566</td>\n",
       "    </tr>\n",
       "    <tr>\n",
       "      <th>4</th>\n",
       "      <td>Business, Management, Marketing, and Related S...</td>\n",
       "      <td>221,523</td>\n",
       "      <td>12%</td>\n",
       "      <td>1072</td>\n",
       "      <td>534</td>\n",
       "      <td>537</td>\n",
       "    </tr>\n",
       "  </tbody>\n",
       "</table>\n",
       "</div>"
      ],
      "text/plain": [
       "                                IntendedCollegeMajor TestTakers Percent  \\\n",
       "0  Agriculture, AgricultureOperations, and Relate...     24,913      1%   \n",
       "1                  Architecture and Related Services     28,988      2%   \n",
       "2         Area, Ethnic, Cultural, and Gender Studies      2,629      0%   \n",
       "3                 Biological and Biomedical Sciences    155,834      8%   \n",
       "4  Business, Management, Marketing, and Related S...    221,523     12%   \n",
       "\n",
       "   Total  ReadingWriting  Math  \n",
       "0    977             496   481  \n",
       "1   1047             520   527  \n",
       "2   1040             536   504  \n",
       "3   1139             572   566  \n",
       "4   1072             534   537  "
      ]
     },
     "execution_count": 91,
     "metadata": {},
     "output_type": "execute_result"
    }
   ],
   "source": [
    "# Reading the dataframe\n",
    "sat_2019_by_c_maj.head(5)"
   ]
  },
  {
   "cell_type": "code",
   "execution_count": 92,
   "metadata": {},
   "outputs": [
    {
     "name": "stdout",
     "output_type": "stream",
     "text": [
      "<class 'pandas.core.frame.DataFrame'>\n",
      "RangeIndex: 38 entries, 0 to 37\n",
      "Data columns (total 6 columns):\n",
      " #   Column                Non-Null Count  Dtype \n",
      "---  ------                --------------  ----- \n",
      " 0   IntendedCollegeMajor  38 non-null     object\n",
      " 1   TestTakers            38 non-null     object\n",
      " 2   Percent               38 non-null     object\n",
      " 3   Total                 38 non-null     int64 \n",
      " 4   ReadingWriting        38 non-null     int64 \n",
      " 5   Math                  38 non-null     int64 \n",
      "dtypes: int64(3), object(3)\n",
      "memory usage: 1.9+ KB\n"
     ]
    }
   ],
   "source": [
    "# Check info\n",
    "sat_2019_by_c_maj.info()"
   ]
  },
  {
   "cell_type": "code",
   "execution_count": 93,
   "metadata": {},
   "outputs": [],
   "source": [
    "# Set up a dictionary to rename columns\n",
    "\n",
    "cols_name = {'IntendedCollegeMajor':'intended_college_major','TestTakers':'test_takers',\\\n",
    "             'Percent':'percent','Total':'total','ReadingWriting':'reading_writing','Math':'maths'}\n",
    "\n",
    "sat_2019_by_c_maj = sat_2019_by_c_maj.rename(columns=cols_name)"
   ]
  },
  {
   "cell_type": "code",
   "execution_count": 94,
   "metadata": {
    "scrolled": true
   },
   "outputs": [],
   "source": [
    "# Change test_takers data to float\n",
    "sat_2019_by_c_maj['test_takers'] = sat_2019_by_c_maj['test_takers'].apply(convert_num)"
   ]
  },
  {
   "cell_type": "code",
   "execution_count": 95,
   "metadata": {},
   "outputs": [],
   "source": [
    "# Recalculate 'percent' column since they will have rounding error if we use string conversion\n",
    "sat_2019_by_c_maj['percent'] = sat_2019_by_c_maj['test_takers'].apply(lambda x : x / sum(sat_2019_by_c_maj['test_takers']))"
   ]
  },
  {
   "cell_type": "code",
   "execution_count": 96,
   "metadata": {},
   "outputs": [
    {
     "data": {
      "text/html": [
       "<div>\n",
       "<style scoped>\n",
       "    .dataframe tbody tr th:only-of-type {\n",
       "        vertical-align: middle;\n",
       "    }\n",
       "\n",
       "    .dataframe tbody tr th {\n",
       "        vertical-align: top;\n",
       "    }\n",
       "\n",
       "    .dataframe thead th {\n",
       "        text-align: right;\n",
       "    }\n",
       "</style>\n",
       "<table border=\"1\" class=\"dataframe\">\n",
       "  <thead>\n",
       "    <tr style=\"text-align: right;\">\n",
       "      <th></th>\n",
       "      <th>intended_college_major</th>\n",
       "      <th>test_takers</th>\n",
       "      <th>percent</th>\n",
       "      <th>total</th>\n",
       "      <th>reading_writing</th>\n",
       "      <th>maths</th>\n",
       "    </tr>\n",
       "  </thead>\n",
       "  <tbody>\n",
       "    <tr>\n",
       "      <th>0</th>\n",
       "      <td>Agriculture, AgricultureOperations, and Relate...</td>\n",
       "      <td>24913.0</td>\n",
       "      <td>0.013547</td>\n",
       "      <td>977</td>\n",
       "      <td>496</td>\n",
       "      <td>481</td>\n",
       "    </tr>\n",
       "    <tr>\n",
       "      <th>1</th>\n",
       "      <td>Architecture and Related Services</td>\n",
       "      <td>28988.0</td>\n",
       "      <td>0.015763</td>\n",
       "      <td>1047</td>\n",
       "      <td>520</td>\n",
       "      <td>527</td>\n",
       "    </tr>\n",
       "    <tr>\n",
       "      <th>2</th>\n",
       "      <td>Area, Ethnic, Cultural, and Gender Studies</td>\n",
       "      <td>2629.0</td>\n",
       "      <td>0.001430</td>\n",
       "      <td>1040</td>\n",
       "      <td>536</td>\n",
       "      <td>504</td>\n",
       "    </tr>\n",
       "  </tbody>\n",
       "</table>\n",
       "</div>"
      ],
      "text/plain": [
       "                              intended_college_major  test_takers   percent  \\\n",
       "0  Agriculture, AgricultureOperations, and Relate...      24913.0  0.013547   \n",
       "1                  Architecture and Related Services      28988.0  0.015763   \n",
       "2         Area, Ethnic, Cultural, and Gender Studies       2629.0  0.001430   \n",
       "\n",
       "   total  reading_writing  maths  \n",
       "0    977              496    481  \n",
       "1   1047              520    527  \n",
       "2   1040              536    504  "
      ]
     },
     "execution_count": 96,
     "metadata": {},
     "output_type": "execute_result"
    }
   ],
   "source": [
    "# Check dataframe\n",
    "sat_2019_by_c_maj.head(3)"
   ]
  },
  {
   "cell_type": "code",
   "execution_count": 97,
   "metadata": {},
   "outputs": [
    {
     "name": "stdout",
     "output_type": "stream",
     "text": [
      "<class 'pandas.core.frame.DataFrame'>\n",
      "RangeIndex: 38 entries, 0 to 37\n",
      "Data columns (total 6 columns):\n",
      " #   Column                  Non-Null Count  Dtype  \n",
      "---  ------                  --------------  -----  \n",
      " 0   intended_college_major  38 non-null     object \n",
      " 1   test_takers             38 non-null     float64\n",
      " 2   percent                 38 non-null     float64\n",
      " 3   total                   38 non-null     int64  \n",
      " 4   reading_writing         38 non-null     int64  \n",
      " 5   maths                   38 non-null     int64  \n",
      "dtypes: float64(2), int64(3), object(1)\n",
      "memory usage: 1.9+ KB\n"
     ]
    }
   ],
   "source": [
    "# Check datatype\n",
    "sat_2019_by_c_maj.info()"
   ]
  },
  {
   "cell_type": "code",
   "execution_count": 98,
   "metadata": {},
   "outputs": [],
   "source": [
    "# Save cleaned df to csv\n",
    "sat_2019_by_c_maj.to_csv('../data/cleaned/sat_2019_by_college_major_cleaned.csv')"
   ]
  },
  {
   "cell_type": "markdown",
   "metadata": {},
   "source": [
    "#### Data Cleaning : check acceptance by college"
   ]
  },
  {
   "cell_type": "code",
   "execution_count": 99,
   "metadata": {},
   "outputs": [
    {
     "data": {
      "text/html": [
       "<div>\n",
       "<style scoped>\n",
       "    .dataframe tbody tr th:only-of-type {\n",
       "        vertical-align: middle;\n",
       "    }\n",
       "\n",
       "    .dataframe tbody tr th {\n",
       "        vertical-align: top;\n",
       "    }\n",
       "\n",
       "    .dataframe thead th {\n",
       "        text-align: right;\n",
       "    }\n",
       "</style>\n",
       "<table border=\"1\" class=\"dataframe\">\n",
       "  <thead>\n",
       "    <tr style=\"text-align: right;\">\n",
       "      <th></th>\n",
       "      <th>School</th>\n",
       "      <th>Test Optional?</th>\n",
       "      <th>Applies to Class Year(s)</th>\n",
       "      <th>Policy Details</th>\n",
       "      <th>Number of Applicants</th>\n",
       "      <th>Accept Rate</th>\n",
       "      <th>SAT Total 25th-75th Percentile</th>\n",
       "      <th>ACT Total 25th-75th Percentile</th>\n",
       "    </tr>\n",
       "  </thead>\n",
       "  <tbody>\n",
       "    <tr>\n",
       "      <th>0</th>\n",
       "      <td>Stanford University</td>\n",
       "      <td>Yes</td>\n",
       "      <td>2021</td>\n",
       "      <td>Stanford has adopted a one-year test optional ...</td>\n",
       "      <td>47452</td>\n",
       "      <td>4.3%</td>\n",
       "      <td>1440-1570</td>\n",
       "      <td>32-35</td>\n",
       "    </tr>\n",
       "    <tr>\n",
       "      <th>1</th>\n",
       "      <td>Harvard College</td>\n",
       "      <td>Yes</td>\n",
       "      <td>2021</td>\n",
       "      <td>Harvard has adopted a one-year test optional p...</td>\n",
       "      <td>42749</td>\n",
       "      <td>4.7%</td>\n",
       "      <td>1460-1580</td>\n",
       "      <td>33-35</td>\n",
       "    </tr>\n",
       "    <tr>\n",
       "      <th>2</th>\n",
       "      <td>Princeton University</td>\n",
       "      <td>Yes</td>\n",
       "      <td>2021</td>\n",
       "      <td>Princeton has adopted a one-year test optional...</td>\n",
       "      <td>35370</td>\n",
       "      <td>5.5%</td>\n",
       "      <td>1440-1570</td>\n",
       "      <td>32-35</td>\n",
       "    </tr>\n",
       "  </tbody>\n",
       "</table>\n",
       "</div>"
      ],
      "text/plain": [
       "                 School Test Optional? Applies to Class Year(s)  \\\n",
       "0   Stanford University            Yes                     2021   \n",
       "1       Harvard College            Yes                     2021   \n",
       "2  Princeton University            Yes                     2021   \n",
       "\n",
       "                                      Policy Details  Number of Applicants  \\\n",
       "0  Stanford has adopted a one-year test optional ...                 47452   \n",
       "1  Harvard has adopted a one-year test optional p...                 42749   \n",
       "2  Princeton has adopted a one-year test optional...                 35370   \n",
       "\n",
       "  Accept Rate SAT Total 25th-75th Percentile ACT Total 25th-75th Percentile  \n",
       "0        4.3%                      1440-1570                          32-35  \n",
       "1        4.7%                      1460-1580                          33-35  \n",
       "2        5.5%                      1440-1570                          32-35  "
      ]
     },
     "execution_count": 99,
     "metadata": {},
     "output_type": "execute_result"
    }
   ],
   "source": [
    "# Check dataframe\n",
    "sat_act_by_college.head(3)"
   ]
  },
  {
   "cell_type": "code",
   "execution_count": 100,
   "metadata": {},
   "outputs": [
    {
     "name": "stdout",
     "output_type": "stream",
     "text": [
      "<class 'pandas.core.frame.DataFrame'>\n",
      "RangeIndex: 416 entries, 0 to 415\n",
      "Data columns (total 8 columns):\n",
      " #   Column                          Non-Null Count  Dtype \n",
      "---  ------                          --------------  ----- \n",
      " 0   School                          416 non-null    object\n",
      " 1   Test Optional?                  416 non-null    object\n",
      " 2   Applies to Class Year(s)        390 non-null    object\n",
      " 3   Policy Details                  416 non-null    object\n",
      " 4   Number of Applicants            416 non-null    int64 \n",
      " 5   Accept Rate                     416 non-null    object\n",
      " 6   SAT Total 25th-75th Percentile  416 non-null    object\n",
      " 7   ACT Total 25th-75th Percentile  416 non-null    object\n",
      "dtypes: int64(1), object(7)\n",
      "memory usage: 26.1+ KB\n"
     ]
    }
   ],
   "source": [
    "# Check datatype\n",
    "sat_act_by_college.info()"
   ]
  },
  {
   "cell_type": "code",
   "execution_count": 101,
   "metadata": {},
   "outputs": [
    {
     "data": {
      "text/plain": [
       "School                            0.0000\n",
       "Test Optional?                    0.0000\n",
       "Applies to Class Year(s)          0.0625\n",
       "Policy Details                    0.0000\n",
       "Number of Applicants              0.0000\n",
       "Accept Rate                       0.0000\n",
       "SAT Total 25th-75th Percentile    0.0000\n",
       "ACT Total 25th-75th Percentile    0.0000\n",
       "dtype: float64"
      ]
     },
     "execution_count": 101,
     "metadata": {},
     "output_type": "execute_result"
    }
   ],
   "source": [
    "# Check for null values\n",
    "sat_act_by_college.isnull().mean()"
   ]
  },
  {
   "cell_type": "code",
   "execution_count": 102,
   "metadata": {},
   "outputs": [],
   "source": [
    "# Setup a dictionary to rename column\n",
    "cols_name = {'School':'school','Test Optional?':'test_optional',\\\n",
    "             'Applies to Class Year(s)':'applied_class_yr','Policy Details':'policy',\\\n",
    "             'Number of Applicants':'num_applicants','Accept Rate':'acceptance_rate',\\\n",
    "             'SAT Total 25th-75th Percentile':'sat_25_75',\\\n",
    "             'ACT Total 25th-75th Percentile':'act_25_75'}"
   ]
  },
  {
   "cell_type": "code",
   "execution_count": 103,
   "metadata": {},
   "outputs": [],
   "source": [
    "# Rename column\n",
    "sat_act_by_college = sat_act_by_college.rename(columns=cols_name)"
   ]
  },
  {
   "cell_type": "code",
   "execution_count": 104,
   "metadata": {},
   "outputs": [],
   "source": [
    "# Convert acceptance rate to percentage\n",
    "sat_act_by_college['acceptance_rate'] = sat_act_by_college['acceptance_rate'].apply(convert_pct)"
   ]
  },
  {
   "cell_type": "code",
   "execution_count": 105,
   "metadata": {},
   "outputs": [],
   "source": [
    "# Drop typos columns\n",
    "sat_act_by_college = sat_act_by_college[sat_act_by_college['sat_25_75'].str.contains('\\u200b\\u200b') == False]\n",
    "sat_act_by_college = sat_act_by_college[sat_act_by_college['act_25_75'].str.contains('\\u200b\\u200b') == False]"
   ]
  },
  {
   "cell_type": "code",
   "execution_count": 106,
   "metadata": {},
   "outputs": [],
   "source": [
    "# Drop typos columns\n",
    "sat_act_by_college = sat_act_by_college[sat_act_by_college['sat_25_75'].str.contains('--') == False]\n",
    "sat_act_by_college = sat_act_by_college[sat_act_by_college['act_25_75'].str.contains('--') == False]"
   ]
  },
  {
   "cell_type": "code",
   "execution_count": 107,
   "metadata": {},
   "outputs": [],
   "source": [
    "# Split sat and act 25 and 75 percentile column for further exploration\n",
    "\n",
    "# Split SAT \n",
    "sat_act_by_college['sat_25'] = sat_act_by_college['sat_25_75'].apply(lambda x : float(x.split('-')[0]))\n",
    "sat_act_by_college['sat_75'] = sat_act_by_college['sat_25_75'].apply(lambda x : float(x.split('-')[1]))\n",
    "\n",
    "# Split ACT\n",
    "sat_act_by_college['act_25'] = sat_act_by_college['act_25_75'].apply(lambda x : float(x.split('-')[0]))\n",
    "sat_act_by_college['act_75'] = sat_act_by_college['act_25_75'].apply(lambda x : float(x.split('-')[1]))"
   ]
  },
  {
   "cell_type": "code",
   "execution_count": 108,
   "metadata": {},
   "outputs": [],
   "source": [
    "# Remove column sat_25_75 and act_25_75\n",
    "\n",
    "sat_act_by_college = sat_act_by_college.drop('sat_25_75',axis=1)\n",
    "sat_act_by_college = sat_act_by_college.drop('act_25_75',axis=1)"
   ]
  },
  {
   "cell_type": "code",
   "execution_count": 109,
   "metadata": {
    "scrolled": true
   },
   "outputs": [
    {
     "name": "stdout",
     "output_type": "stream",
     "text": [
      "<class 'pandas.core.frame.DataFrame'>\n",
      "Int64Index: 401 entries, 0 to 415\n",
      "Data columns (total 10 columns):\n",
      " #   Column            Non-Null Count  Dtype  \n",
      "---  ------            --------------  -----  \n",
      " 0   school            401 non-null    object \n",
      " 1   test_optional     401 non-null    object \n",
      " 2   applied_class_yr  376 non-null    object \n",
      " 3   policy            401 non-null    object \n",
      " 4   num_applicants    401 non-null    int64  \n",
      " 5   acceptance_rate   401 non-null    float64\n",
      " 6   sat_25            401 non-null    float64\n",
      " 7   sat_75            401 non-null    float64\n",
      " 8   act_25            401 non-null    float64\n",
      " 9   act_75            401 non-null    float64\n",
      "dtypes: float64(5), int64(1), object(4)\n",
      "memory usage: 34.5+ KB\n"
     ]
    }
   ],
   "source": [
    "sat_act_by_college.info()"
   ]
  },
  {
   "cell_type": "markdown",
   "metadata": {},
   "source": [
    "Data Dictionary of `sat_act_by_college` dataframe"
   ]
  },
  {
   "cell_type": "markdown",
   "metadata": {},
   "source": [
    "|Field #|Field Name|Type|Dataset|Description|\n",
    "|---|---|---|---|---|\n",
    "|0|school|str|act_df|State in the US|\n",
    "|1|test_optional|str|act_df|Whether SAT/ACT is option|\n",
    "|2|applied_class_yr|str|act_df|Start year of policy|\n",
    "|3|policy|int64|str|Policy of optional SAT/ACT|\n",
    "|4|num_applicants|int64|act_df|Number of applicants for that university|\n",
    "|5|acceptance_rate|float|act_df|Acceptance rate of university|\n",
    "|6|sat_25|int64|float|25th percentile of accepted SAT score|\n",
    "|7|sat_75|int64|float|75th percentile of accepted SAT score|\n",
    "|8|act_25|int64|float|25th percentile of accepted ACT score|\n",
    "|8|act_27|int64|float|75th percentile of accepted ACT score|"
   ]
  },
  {
   "cell_type": "code",
   "execution_count": 110,
   "metadata": {},
   "outputs": [],
   "source": [
    "# Save to df to csv\n",
    "sat_act_by_college.to_csv('../data/cleaned/sat_act_by_college_cleaned.csv')"
   ]
  }
 ],
 "metadata": {
  "anaconda-cloud": {},
  "kernelspec": {
   "display_name": "Python 3 (ipykernel)",
   "language": "python",
   "name": "python3"
  },
  "language_info": {
   "codemirror_mode": {
    "name": "ipython",
    "version": 3
   },
   "file_extension": ".py",
   "mimetype": "text/x-python",
   "name": "python",
   "nbconvert_exporter": "python",
   "pygments_lexer": "ipython3",
   "version": "3.9.12"
  }
 },
 "nbformat": 4,
 "nbformat_minor": 4
}
